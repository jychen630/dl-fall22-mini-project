{
 "nbformat": 4,
 "nbformat_minor": 0,
 "metadata": {
  "colab": {
   "provenance": [],
   "collapsed_sections": [],
   "machine_shape": "hm",
   "include_colab_link": true
  },
  "kernelspec": {
   "name": "python3",
   "display_name": "Python 3"
  },
  "language_info": {
   "name": "python"
  },
  "accelerator": "GPU",
  "gpuClass": "premium"
 },
 "cells": [
  {
   "cell_type": "markdown",
   "metadata": {
    "id": "view-in-github",
    "colab_type": "text"
   },
   "source": [
    "<a href=\"https://colab.research.google.com/github/jychen630/dl-fall22-mini-project/blob/main/Dennis_Mini_project.ipynb\" target=\"_parent\"><img src=\"https://colab.research.google.com/assets/colab-badge.svg\" alt=\"Open In Colab\"/></a>"
   ]
  },
  {
   "cell_type": "code",
   "source": [
    "#!pip install -e git+https://github.com/marcoancona/TorchPruner.git#egg=torchpruner"
   ],
   "metadata": {
    "id": "SsNWB9qNNKka"
   },
   "execution_count": 2,
   "outputs": []
  },
  {
   "cell_type": "code",
   "execution_count": 1,
   "outputs": [],
   "source": [
    "import ssl\n",
    "def set_up_ssl():\n",
    "    try:\n",
    "        _create_unverified_https_context = ssl._create_unverified_context\n",
    "    except AttributeError:\n",
    "        pass\n",
    "    else:\n",
    "        ssl._create_default_https_context = _create_unverified_https_context\n",
    "\n",
    "set_up_ssl()"
   ],
   "metadata": {
    "id": "GXI-w576XzT_"
   }
  },
  {
   "cell_type": "code",
   "source": [
    "import torch\n",
    "import torch.nn as nn\n",
    "import torch.optim as optim\n",
    "import torch.nn.init as init\n",
    "import torch.nn.functional as F\n",
    "import torch.backends.cudnn as cudnn\n",
    "import torch.nn.utils.prune as prune\n",
    "from torch.utils.data import random_split\n",
    "\n",
    "import torchvision\n",
    "import torchvision.transforms as transforms\n",
    "\n",
    "from torchsummary import summary\n",
    "\n",
    "import os\n",
    "import sys\n",
    "import time\n",
    "import math\n",
    "import argparse\n",
    "import humanize\n",
    "import numpy as np\n",
    "import matplotlib.pyplot as plt"
   ],
   "metadata": {
    "id": "wTLc4fVcQ857"
   },
   "execution_count": 2,
   "outputs": []
  },
  {
   "cell_type": "code",
   "source": [
    "term_width = 5\n",
    "TOTAL_BAR_LENGTH = 7\n",
    "last_time = time.time()\n",
    "begin_time = last_time\n",
    "def progress_bar(current, total, msg=None):\n",
    "    global last_time, begin_time\n",
    "    if current == 0:\n",
    "        begin_time = time.time()  # Reset for new bar.\n",
    "\n",
    "    cur_len = int(TOTAL_BAR_LENGTH*current/total)\n",
    "    rest_len = int(TOTAL_BAR_LENGTH - cur_len) - 1\n",
    "\n",
    "    sys.stdout.write(' [')\n",
    "    for i in range(cur_len):\n",
    "        sys.stdout.write('=')\n",
    "    sys.stdout.write('>')\n",
    "    for i in range(rest_len):\n",
    "        sys.stdout.write('.')\n",
    "    sys.stdout.write(']')\n",
    "\n",
    "    cur_time = time.time()\n",
    "    step_time = cur_time - last_time\n",
    "    last_time = cur_time\n",
    "    tot_time = cur_time - begin_time\n",
    "\n",
    "    L = []\n",
    "    L.append('  Step: %s' % format_time(step_time))\n",
    "    L.append(' | Tot: %s' % format_time(tot_time))\n",
    "    if msg:\n",
    "        L.append(' | ' + msg)\n",
    "\n",
    "    msg = ''.join(L)\n",
    "    sys.stdout.write(msg)\n",
    "    for i in range(term_width-int(TOTAL_BAR_LENGTH)-len(msg)-3):\n",
    "        sys.stdout.write(' ')\n",
    "\n",
    "    # Go back to the center of the bar.\n",
    "    for i in range(term_width-int(TOTAL_BAR_LENGTH/2)+2):\n",
    "        sys.stdout.write('\\b')\n",
    "    sys.stdout.write(' %d/%d ' % (current+1, total))\n",
    "\n",
    "    if current < total-1:\n",
    "        sys.stdout.write('\\r')\n",
    "    else:\n",
    "        sys.stdout.write('\\n')\n",
    "    sys.stdout.flush()\n",
    "\n",
    "def format_time(seconds):\n",
    "    days = int(seconds / 3600/24)\n",
    "    seconds = seconds - days*3600*24\n",
    "    hours = int(seconds / 3600)\n",
    "    seconds = seconds - hours*3600\n",
    "    minutes = int(seconds / 60)\n",
    "    seconds = seconds - minutes*60\n",
    "    secondsf = int(seconds)\n",
    "    seconds = seconds - secondsf\n",
    "    millis = int(seconds*1000)\n",
    "\n",
    "    f = ''\n",
    "    i = 1\n",
    "    if days > 0:\n",
    "        f += str(days) + 'D'\n",
    "        i += 1\n",
    "    if hours > 0 and i <= 2:\n",
    "        f += str(hours) + 'h'\n",
    "        i += 1\n",
    "    if minutes > 0 and i <= 2:\n",
    "        f += str(minutes) + 'm'\n",
    "        i += 1\n",
    "    if secondsf > 0 and i <= 2:\n",
    "        f += str(secondsf) + 's'\n",
    "        i += 1\n",
    "    if millis > 0 and i <= 2:\n",
    "        f += str(millis) + 'ms'\n",
    "        i += 1\n",
    "    if f == '':\n",
    "        f = '0ms'\n",
    "    return f"
   ],
   "metadata": {
    "id": "jQeGvfSCRM4i"
   },
   "execution_count": 3,
   "outputs": []
  },
  {
   "cell_type": "code",
   "execution_count": 4,
   "outputs": [],
   "source": [
    "'''ResNet in PyTorch.\n",
    "For Pre-activation ResNet, see 'preact_resnet.py'.\n",
    "Reference:\n",
    "[1] Kaiming He, Xiangyu Zhang, Shaoqing Ren, Jian Sun\n",
    "    Deep Residual Learning for Image Recognition. arXiv:1512.03385\n",
    "'''\n",
    "\n",
    "\n",
    "class BasicBlock(nn.Module):\n",
    "    expansion = 1\n",
    "\n",
    "    def __init__(self, in_planes, planes, stride=1):\n",
    "        super(BasicBlock, self).__init__()\n",
    "        self.conv1 = nn.Conv2d(\n",
    "            in_planes, planes, kernel_size=3, stride=stride, padding=1, bias=False)\n",
    "        # pruning model parameters in the first convolution layer\n",
    "\n",
    "        # prune.random_unstructured(self.conv1, name='weight', amount=0.6)\n",
    "        # prune.remove(self.conv1, 'weight')\n",
    "\n",
    "        self.bn1 = nn.BatchNorm2d(planes)\n",
    "        self.conv2 = nn.Conv2d(planes, planes, kernel_size=3,\n",
    "                               stride=1, padding=1, bias=False)\n",
    "        # pruning model parameters in the second convolution layer\n",
    "\n",
    "        # prune.random_unstructured(self.conv2, name='weight', amount=0.6)\n",
    "        # prune.remove(self.conv2, 'weight')\n",
    "\n",
    "        self.bn2 = nn.BatchNorm2d(planes)\n",
    "        self.shortcut = nn.Sequential()\n",
    "        if stride != 1 or in_planes != self.expansion*planes:\n",
    "            self.shortcut = nn.Sequential(\n",
    "                nn.Conv2d(in_planes, self.expansion*planes,\n",
    "                          kernel_size=1, stride=stride, bias=False),\n",
    "                nn.BatchNorm2d(self.expansion*planes)\n",
    "            )\n",
    "\n",
    "    def forward(self, x):\n",
    "        out = F.relu(self.bn1(self.conv1(x)))\n",
    "        out = self.bn2(self.conv2(out))\n",
    "        out += self.shortcut(x)\n",
    "        out = F.relu(out)\n",
    "        return out\n",
    "\n",
    "\n",
    "class Bottleneck(nn.Module):\n",
    "    expansion = 4\n",
    "\n",
    "    def __init__(self, in_planes, planes, stride=1):\n",
    "        super(Bottleneck, self).__init__()\n",
    "        self.conv1 = nn.Conv2d(in_planes, planes, kernel_size=1, bias=False)\n",
    "\n",
    "        # prune.random_unstructured(self.conv1, name='weight', amount=0.5)\n",
    "        # prune.remove(self.conv1, 'weight')\n",
    "\n",
    "        self.bn1 = nn.BatchNorm2d(planes)\n",
    "        self.conv2 = nn.Conv2d(planes, planes, kernel_size=3,\n",
    "                               stride=stride, padding=1, bias=False)\n",
    "        \n",
    "        # prune.random_unstructured(self.conv2, name='weight', amount=0.5)\n",
    "        # prune.remove(self.conv2, 'weight')\n",
    "\n",
    "        self.bn2 = nn.BatchNorm2d(planes)\n",
    "        self.conv3 = nn.Conv2d(planes, self.expansion *\n",
    "                               planes, kernel_size=1, bias=False)\n",
    "        \n",
    "        # prune.random_unstructured(self.conv3, name='weight', amount=0.5)\n",
    "        # prune.remove(self.conv3, 'weight')\n",
    "\n",
    "        self.bn3 = nn.BatchNorm2d(self.expansion*planes)\n",
    "\n",
    "        self.shortcut = nn.Sequential()\n",
    "        if stride != 1 or in_planes != self.expansion*planes:\n",
    "            self.shortcut = nn.Sequential(\n",
    "                nn.Conv2d(in_planes, self.expansion*planes,\n",
    "                          kernel_size=1, stride=stride, bias=False),\n",
    "                nn.BatchNorm2d(self.expansion*planes)\n",
    "            )\n",
    "\n",
    "    def forward(self, x):\n",
    "        out = F.relu(self.bn1(self.conv1(x)))\n",
    "        out = F.relu(self.bn2(self.conv2(out)))\n",
    "        out = self.bn3(self.conv3(out))\n",
    "        out += self.shortcut(x)\n",
    "        out = F.relu(out)\n",
    "        return out\n",
    "\n",
    "\n",
    "class ResNet(nn.Module):\n",
    "    def __init__(self, block, num_blocks, num_classes=10):\n",
    "        super(ResNet, self).__init__()\n",
    "        self.in_planes = 64\n",
    "\n",
    "        self.conv1 = nn.Conv2d(3, 64, kernel_size=3,\n",
    "                               stride=1, padding=1, bias=False)\n",
    "        \n",
    "        # prune.random_unstructured(self.conv1, name='weight', amount=0.5)\n",
    "        # prune.remove(self.conv1, 'weight')\n",
    "\n",
    "        self.bn1 = nn.BatchNorm2d(64)\n",
    "        self.layer1 = self._make_layer(block, 64, num_blocks[0], stride=1)\n",
    "        self.layer2 = self._make_layer(block, 128, num_blocks[1], stride=2)\n",
    "        self.layer3 = self._make_layer(block, 256, num_blocks[2], stride=2)\n",
    "        # removing the 4th layer to reduce the size of the network\n",
    "        self.layer4 = self._make_layer(block, 512, num_blocks[3], stride=2)\n",
    "        self.linear = nn.Linear(512*block.expansion, num_classes)\n",
    "\n",
    "        # prune.random_unstructured(self.linear, name='weight', amount=0.5)\n",
    "        # prune.remove(self.linear, 'weight')\n",
    "\n",
    "    def _make_layer(self, block, planes, num_blocks, stride):\n",
    "        strides = [stride] + [1]*(num_blocks-1)\n",
    "        layers = []\n",
    "        for stride in strides:\n",
    "            layers.append(block(self.in_planes, planes, stride))\n",
    "            self.in_planes = planes * block.expansion\n",
    "        return nn.Sequential(*layers)\n",
    "\n",
    "    def forward(self, x):\n",
    "        out = F.relu(self.bn1(self.conv1(x)))\n",
    "        out = self.layer1(out)\n",
    "        out = self.layer2(out)\n",
    "        out = self.layer3(out)\n",
    "        # removing the 4th layer to reduce the size of the network\n",
    "        out = self.layer4(out)\n",
    "        out = F.avg_pool2d(out, 4)\n",
    "        out = out.view(out.size(0), -1)\n",
    "        out = self.linear(out)\n",
    "        return out\n",
    "\n",
    "\n",
    "def ResNet18():\n",
    "    return ResNet(BasicBlock, [2, 2, 2, 2])\n",
    "\n",
    "\n",
    "def ResNet34():\n",
    "    return ResNet(BasicBlock, [3, 4, 6, 3])\n",
    "\n",
    "\n",
    "def ResNet50():\n",
    "    return ResNet(Bottleneck, [3, 4, 6, 3])\n",
    "\n",
    "\n",
    "def ResNet101():\n",
    "    return ResNet(Bottleneck, [3, 4, 23, 3])\n",
    "\n",
    "\n",
    "def ResNet152():\n",
    "    return ResNet(Bottleneck, [3, 8, 36, 3])\n",
    "\n",
    "\n",
    "#seems not used\n",
    "# def test():\n",
    "#     net = ResNet18()\n",
    "#     y = net(torch.randn(1, 3, 32, 32))\n",
    "#     print(y.size())\n"
   ],
   "metadata": {
    "id": "wTCFIHn0XzUL"
   }
  },
  {
   "cell_type": "code",
   "source": [
    "\n",
    "LOCAL_M1 = True\n",
    "\n",
    "if LOCAL_M1:\n",
    "    device = 'cuda' if torch.cuda.is_available() else 'mps'\n",
    "else:\n",
    "    device = 'cuda' if torch.cuda.is_available() else 'cpu'\n",
    "\n",
    "best_acc = 0  # best test accuracy\n",
    "start_epoch = 0  # start from epoch 0 or last checkpoint epoch\n",
    "\n",
    "# Data\n",
    "print('==> Preparing data..')\n",
    "transform_train = transforms.Compose([\n",
    "    transforms.RandomHorizontalFlip(),\n",
    "    transforms.RandomCrop(32, padding=4),\n",
    "    transforms.AutoAugment(transforms.AutoAugmentPolicy.CIFAR10),\n",
    "    transforms.ToTensor(),\n",
    "    transforms.Normalize((0.4914, 0.4822, 0.4465), (0.2023, 0.1994, 0.2010)),\n",
    "    #transforms.RandomErasing()\n",
    "  \n",
    "])\n",
    "\n",
    "transform_test = transforms.Compose([\n",
    "    transforms.ToTensor(),\n",
    "    transforms.Normalize((0.4914, 0.4822, 0.4465), (0.2023, 0.1994, 0.2010)),\n",
    "])\n",
    "\n",
    "# constructing validation set\n",
    "\n",
    "trainset = torchvision.datasets.CIFAR10(\n",
    "    root='./data', train=True, download=True, transform=transform_train)\n",
    "\n",
    "testset = torchvision.datasets.CIFAR10(\n",
    "    root='./data', train=False, download=True, transform=transform_test)\n",
    "\n",
    "torch.manual_seed(43)\n",
    "val_size = 5000\n",
    "train_size = len(trainset) - val_size\n",
    "\n",
    "train_ds, val_ds = random_split(trainset, [train_size, val_size])\n",
    "len(train_ds), len(val_ds)\n",
    "print(\"The length of a train set is \", len(train_ds))\n",
    "print(\"The length of a validation set is \", len(val_ds))\n",
    "print(\"The length of a test set is \", len(testset))\n",
    "\n",
    "trainloader = torch.utils.data.DataLoader(\n",
    "    train_ds, batch_size=128, shuffle=True, num_workers=2)\n",
    "\n",
    "val_loader = torch.utils.data.DataLoader(\n",
    "    val_ds, batch_size=128, shuffle=True, num_workers=2)\n",
    "\n",
    "testloader = torch.utils.data.DataLoader(\n",
    "    testset, batch_size=100, shuffle=False, num_workers=2)\n",
    "\n",
    "classes = ('plane', 'car', 'bird', 'cat', 'deer',\n",
    "           'dog', 'frog', 'horse', 'ship', 'truck')\n",
    "\n",
    "net = ResNet18() # 11.2 params\n",
    "#net = ResNet50() # 23.5"
   ],
   "metadata": {
    "colab": {
     "base_uri": "https://localhost:8080/"
    },
    "id": "N_K9-VkFRsiL",
    "outputId": "c8b5fb65-1a67-4657-afc7-8c574a022639"
   },
   "execution_count": 5,
   "outputs": [
    {
     "name": "stdout",
     "output_type": "stream",
     "text": [
      "==> Preparing data..\n",
      "Files already downloaded and verified\n",
      "Files already downloaded and verified\n",
      "The length of a train set is  45000\n",
      "The length of a validation set is  5000\n",
      "The length of a test set is  10000\n"
     ]
    }
   ]
  },
  {
   "cell_type": "code",
   "source": [
    "layers = list(net.children())\n",
    "\n",
    "print(len(layers))\n",
    "\n",
    "print(\"layers[0]: \", layers[0])\n",
    "print(\"layers[1]: \", layers[1])\n",
    "print(\"layers[2]: \", layers[2])\n",
    "print(\"layers[3]: \", layers[3])\n",
    "print(\"layers[4]: \", layers[4])\n",
    "print(\"layers[5]: \", layers[5])\n",
    "print(\"layers[6]: \", layers[6])"
   ],
   "metadata": {
    "colab": {
     "base_uri": "https://localhost:8080/"
    },
    "id": "KbzjCm0gOElC",
    "outputId": "fb460d5d-b341-4131-bdab-ad9b512b3057"
   },
   "execution_count": 6,
   "outputs": [
    {
     "name": "stdout",
     "output_type": "stream",
     "text": [
      "7\n",
      "layers[0]:  Conv2d(3, 64, kernel_size=(3, 3), stride=(1, 1), padding=(1, 1), bias=False)\n",
      "layers[1]:  BatchNorm2d(64, eps=1e-05, momentum=0.1, affine=True, track_running_stats=True)\n",
      "layers[2]:  Sequential(\n",
      "  (0): BasicBlock(\n",
      "    (conv1): Conv2d(64, 64, kernel_size=(3, 3), stride=(1, 1), padding=(1, 1), bias=False)\n",
      "    (bn1): BatchNorm2d(64, eps=1e-05, momentum=0.1, affine=True, track_running_stats=True)\n",
      "    (conv2): Conv2d(64, 64, kernel_size=(3, 3), stride=(1, 1), padding=(1, 1), bias=False)\n",
      "    (bn2): BatchNorm2d(64, eps=1e-05, momentum=0.1, affine=True, track_running_stats=True)\n",
      "    (shortcut): Sequential()\n",
      "  )\n",
      "  (1): BasicBlock(\n",
      "    (conv1): Conv2d(64, 64, kernel_size=(3, 3), stride=(1, 1), padding=(1, 1), bias=False)\n",
      "    (bn1): BatchNorm2d(64, eps=1e-05, momentum=0.1, affine=True, track_running_stats=True)\n",
      "    (conv2): Conv2d(64, 64, kernel_size=(3, 3), stride=(1, 1), padding=(1, 1), bias=False)\n",
      "    (bn2): BatchNorm2d(64, eps=1e-05, momentum=0.1, affine=True, track_running_stats=True)\n",
      "    (shortcut): Sequential()\n",
      "  )\n",
      ")\n",
      "layers[3]:  Sequential(\n",
      "  (0): BasicBlock(\n",
      "    (conv1): Conv2d(64, 128, kernel_size=(3, 3), stride=(2, 2), padding=(1, 1), bias=False)\n",
      "    (bn1): BatchNorm2d(128, eps=1e-05, momentum=0.1, affine=True, track_running_stats=True)\n",
      "    (conv2): Conv2d(128, 128, kernel_size=(3, 3), stride=(1, 1), padding=(1, 1), bias=False)\n",
      "    (bn2): BatchNorm2d(128, eps=1e-05, momentum=0.1, affine=True, track_running_stats=True)\n",
      "    (shortcut): Sequential(\n",
      "      (0): Conv2d(64, 128, kernel_size=(1, 1), stride=(2, 2), bias=False)\n",
      "      (1): BatchNorm2d(128, eps=1e-05, momentum=0.1, affine=True, track_running_stats=True)\n",
      "    )\n",
      "  )\n",
      "  (1): BasicBlock(\n",
      "    (conv1): Conv2d(128, 128, kernel_size=(3, 3), stride=(1, 1), padding=(1, 1), bias=False)\n",
      "    (bn1): BatchNorm2d(128, eps=1e-05, momentum=0.1, affine=True, track_running_stats=True)\n",
      "    (conv2): Conv2d(128, 128, kernel_size=(3, 3), stride=(1, 1), padding=(1, 1), bias=False)\n",
      "    (bn2): BatchNorm2d(128, eps=1e-05, momentum=0.1, affine=True, track_running_stats=True)\n",
      "    (shortcut): Sequential()\n",
      "  )\n",
      ")\n",
      "layers[4]:  Sequential(\n",
      "  (0): BasicBlock(\n",
      "    (conv1): Conv2d(128, 256, kernel_size=(3, 3), stride=(2, 2), padding=(1, 1), bias=False)\n",
      "    (bn1): BatchNorm2d(256, eps=1e-05, momentum=0.1, affine=True, track_running_stats=True)\n",
      "    (conv2): Conv2d(256, 256, kernel_size=(3, 3), stride=(1, 1), padding=(1, 1), bias=False)\n",
      "    (bn2): BatchNorm2d(256, eps=1e-05, momentum=0.1, affine=True, track_running_stats=True)\n",
      "    (shortcut): Sequential(\n",
      "      (0): Conv2d(128, 256, kernel_size=(1, 1), stride=(2, 2), bias=False)\n",
      "      (1): BatchNorm2d(256, eps=1e-05, momentum=0.1, affine=True, track_running_stats=True)\n",
      "    )\n",
      "  )\n",
      "  (1): BasicBlock(\n",
      "    (conv1): Conv2d(256, 256, kernel_size=(3, 3), stride=(1, 1), padding=(1, 1), bias=False)\n",
      "    (bn1): BatchNorm2d(256, eps=1e-05, momentum=0.1, affine=True, track_running_stats=True)\n",
      "    (conv2): Conv2d(256, 256, kernel_size=(3, 3), stride=(1, 1), padding=(1, 1), bias=False)\n",
      "    (bn2): BatchNorm2d(256, eps=1e-05, momentum=0.1, affine=True, track_running_stats=True)\n",
      "    (shortcut): Sequential()\n",
      "  )\n",
      ")\n",
      "layers[5]:  Sequential(\n",
      "  (0): BasicBlock(\n",
      "    (conv1): Conv2d(256, 512, kernel_size=(3, 3), stride=(2, 2), padding=(1, 1), bias=False)\n",
      "    (bn1): BatchNorm2d(512, eps=1e-05, momentum=0.1, affine=True, track_running_stats=True)\n",
      "    (conv2): Conv2d(512, 512, kernel_size=(3, 3), stride=(1, 1), padding=(1, 1), bias=False)\n",
      "    (bn2): BatchNorm2d(512, eps=1e-05, momentum=0.1, affine=True, track_running_stats=True)\n",
      "    (shortcut): Sequential(\n",
      "      (0): Conv2d(256, 512, kernel_size=(1, 1), stride=(2, 2), bias=False)\n",
      "      (1): BatchNorm2d(512, eps=1e-05, momentum=0.1, affine=True, track_running_stats=True)\n",
      "    )\n",
      "  )\n",
      "  (1): BasicBlock(\n",
      "    (conv1): Conv2d(512, 512, kernel_size=(3, 3), stride=(1, 1), padding=(1, 1), bias=False)\n",
      "    (bn1): BatchNorm2d(512, eps=1e-05, momentum=0.1, affine=True, track_running_stats=True)\n",
      "    (conv2): Conv2d(512, 512, kernel_size=(3, 3), stride=(1, 1), padding=(1, 1), bias=False)\n",
      "    (bn2): BatchNorm2d(512, eps=1e-05, momentum=0.1, affine=True, track_running_stats=True)\n",
      "    (shortcut): Sequential()\n",
      "  )\n",
      ")\n",
      "layers[6]:  Linear(in_features=512, out_features=10, bias=True)\n"
     ]
    }
   ]
  },
  {
   "cell_type": "code",
   "source": [
    "!git clone https://github.com/VainF/Torch-Pruning.git # recommended\n",
    "!pip3 install torch_pruning"
   ],
   "metadata": {
    "id": "u7K43Gm-VfhJ",
    "colab": {
     "base_uri": "https://localhost:8080/"
    },
    "outputId": "ec6014a3-9b84-495b-e956-6ea154925112"
   },
   "execution_count": 7,
   "outputs": [
    {
     "name": "stdout",
     "output_type": "stream",
     "text": [
      "fatal: destination path 'Torch-Pruning' already exists and is not an empty directory.\r\n",
      "Requirement already satisfied: torch_pruning in ./venv/lib/python3.10/site-packages (0.2.8)\r\n",
      "Requirement already satisfied: torch in ./venv/lib/python3.10/site-packages (from torch_pruning) (1.13.0)\r\n",
      "Requirement already satisfied: numpy in ./venv/lib/python3.10/site-packages (from torch_pruning) (1.23.4)\r\n",
      "Requirement already satisfied: typing-extensions in ./venv/lib/python3.10/site-packages (from torch->torch_pruning) (4.4.0)\r\n",
      "\u001B[33mWARNING: You are using pip version 21.3.1; however, version 22.3.1 is available.\r\n",
      "You should consider upgrading via the '/Users/dennisfenchenko/NYU-Fall-2022/deep-learning/mini_project/dl-fall22-mini-project/venv/bin/python -m pip install --upgrade pip' command.\u001B[0m\r\n"
     ]
    }
   ]
  },
  {
   "cell_type": "code",
   "source": [
    "import torch_pruning as tp\n",
    "\n",
    "def prune_model(model):\n",
    "    model.cpu()\n",
    "    DG = tp.DependencyGraph().build_dependency( model, torch.randn(1, 3, 32, 32) )\n",
    "    def prune_conv(conv, amount=0.2):\n",
    "        strategy = tp.strategy.L1Strategy()\n",
    "        pruning_index = strategy(conv.weight, amount=amount)\n",
    "        plan = DG.get_pruning_plan(conv, tp.prune_conv_out_channel, pruning_index)\n",
    "        plan.exec()\n",
    "    \n",
    "    block_prune_probs = [0.1, 0.1, 0.2, 0.2, 0.2, 0.2, 0.3, 0.3]\n",
    "    blk_id = 0\n",
    "    for m in model.modules():\n",
    "        if isinstance( m, BasicBlock):\n",
    "            prune_conv( m.conv1, block_prune_probs[blk_id] )\n",
    "            prune_conv( m.conv2, block_prune_probs[blk_id] )\n",
    "            blk_id+=1\n",
    "    return model   "
   ],
   "metadata": {
    "id": "2M1xDV4-VaKG"
   },
   "execution_count": 8,
   "outputs": []
  },
  {
   "cell_type": "code",
   "source": [
    "\n",
    "def count_parameters(model):\n",
    "    return sum(p.numel() for p in model.parameters() if p.requires_grad)\n",
    "\n",
    "def print_params(model):\n",
    "  print(\"Number of parameters \", humanize.intword(count_parameters(model)))\n",
    "  return"
   ],
   "metadata": {
    "id": "kgQPV3H4ZTxA"
   },
   "execution_count": 9,
   "outputs": []
  },
  {
   "cell_type": "code",
   "source": [
    "print(\"The number of parameters before pruning is \")\n",
    "print_params(net)"
   ],
   "metadata": {
    "colab": {
     "base_uri": "https://localhost:8080/"
    },
    "id": "BCkbs0btThnx",
    "outputId": "18bf629e-1518-4a01-dd0a-6e56a2cc1a08"
   },
   "execution_count": 10,
   "outputs": [
    {
     "name": "stdout",
     "output_type": "stream",
     "text": [
      "The number of parameters before pruning is \n",
      "Number of parameters  11.2 million\n"
     ]
    }
   ]
  },
  {
   "cell_type": "code",
   "source": [
    "prune_model(net)"
   ],
   "metadata": {
    "colab": {
     "base_uri": "https://localhost:8080/"
    },
    "id": "duOPOJDMV2Vn",
    "outputId": "31784eda-8dbd-40f6-e1ec-c4f87b83d89d"
   },
   "execution_count": 11,
   "outputs": [
    {
     "data": {
      "text/plain": "ResNet(\n  (conv1): Conv2d(3, 53, kernel_size=(3, 3), stride=(1, 1), padding=(1, 1), bias=False)\n  (bn1): BatchNorm2d(53, eps=1e-05, momentum=0.1, affine=True, track_running_stats=True)\n  (layer1): Sequential(\n    (0): BasicBlock(\n      (conv1): Conv2d(53, 58, kernel_size=(3, 3), stride=(1, 1), padding=(1, 1), bias=False)\n      (bn1): BatchNorm2d(58, eps=1e-05, momentum=0.1, affine=True, track_running_stats=True)\n      (conv2): Conv2d(58, 53, kernel_size=(3, 3), stride=(1, 1), padding=(1, 1), bias=False)\n      (bn2): BatchNorm2d(53, eps=1e-05, momentum=0.1, affine=True, track_running_stats=True)\n      (shortcut): Sequential()\n    )\n    (1): BasicBlock(\n      (conv1): Conv2d(53, 58, kernel_size=(3, 3), stride=(1, 1), padding=(1, 1), bias=False)\n      (bn1): BatchNorm2d(58, eps=1e-05, momentum=0.1, affine=True, track_running_stats=True)\n      (conv2): Conv2d(58, 53, kernel_size=(3, 3), stride=(1, 1), padding=(1, 1), bias=False)\n      (bn2): BatchNorm2d(53, eps=1e-05, momentum=0.1, affine=True, track_running_stats=True)\n      (shortcut): Sequential()\n    )\n  )\n  (layer2): Sequential(\n    (0): BasicBlock(\n      (conv1): Conv2d(53, 103, kernel_size=(3, 3), stride=(2, 2), padding=(1, 1), bias=False)\n      (bn1): BatchNorm2d(103, eps=1e-05, momentum=0.1, affine=True, track_running_stats=True)\n      (conv2): Conv2d(103, 83, kernel_size=(3, 3), stride=(1, 1), padding=(1, 1), bias=False)\n      (bn2): BatchNorm2d(83, eps=1e-05, momentum=0.1, affine=True, track_running_stats=True)\n      (shortcut): Sequential(\n        (0): Conv2d(53, 83, kernel_size=(1, 1), stride=(2, 2), bias=False)\n        (1): BatchNorm2d(83, eps=1e-05, momentum=0.1, affine=True, track_running_stats=True)\n      )\n    )\n    (1): BasicBlock(\n      (conv1): Conv2d(83, 103, kernel_size=(3, 3), stride=(1, 1), padding=(1, 1), bias=False)\n      (bn1): BatchNorm2d(103, eps=1e-05, momentum=0.1, affine=True, track_running_stats=True)\n      (conv2): Conv2d(103, 83, kernel_size=(3, 3), stride=(1, 1), padding=(1, 1), bias=False)\n      (bn2): BatchNorm2d(83, eps=1e-05, momentum=0.1, affine=True, track_running_stats=True)\n      (shortcut): Sequential()\n    )\n  )\n  (layer3): Sequential(\n    (0): BasicBlock(\n      (conv1): Conv2d(83, 205, kernel_size=(3, 3), stride=(2, 2), padding=(1, 1), bias=False)\n      (bn1): BatchNorm2d(205, eps=1e-05, momentum=0.1, affine=True, track_running_stats=True)\n      (conv2): Conv2d(205, 164, kernel_size=(3, 3), stride=(1, 1), padding=(1, 1), bias=False)\n      (bn2): BatchNorm2d(164, eps=1e-05, momentum=0.1, affine=True, track_running_stats=True)\n      (shortcut): Sequential(\n        (0): Conv2d(83, 164, kernel_size=(1, 1), stride=(2, 2), bias=False)\n        (1): BatchNorm2d(164, eps=1e-05, momentum=0.1, affine=True, track_running_stats=True)\n      )\n    )\n    (1): BasicBlock(\n      (conv1): Conv2d(164, 205, kernel_size=(3, 3), stride=(1, 1), padding=(1, 1), bias=False)\n      (bn1): BatchNorm2d(205, eps=1e-05, momentum=0.1, affine=True, track_running_stats=True)\n      (conv2): Conv2d(205, 164, kernel_size=(3, 3), stride=(1, 1), padding=(1, 1), bias=False)\n      (bn2): BatchNorm2d(164, eps=1e-05, momentum=0.1, affine=True, track_running_stats=True)\n      (shortcut): Sequential()\n    )\n  )\n  (layer4): Sequential(\n    (0): BasicBlock(\n      (conv1): Conv2d(164, 359, kernel_size=(3, 3), stride=(2, 2), padding=(1, 1), bias=False)\n      (bn1): BatchNorm2d(359, eps=1e-05, momentum=0.1, affine=True, track_running_stats=True)\n      (conv2): Conv2d(359, 252, kernel_size=(3, 3), stride=(1, 1), padding=(1, 1), bias=False)\n      (bn2): BatchNorm2d(252, eps=1e-05, momentum=0.1, affine=True, track_running_stats=True)\n      (shortcut): Sequential(\n        (0): Conv2d(164, 252, kernel_size=(1, 1), stride=(2, 2), bias=False)\n        (1): BatchNorm2d(252, eps=1e-05, momentum=0.1, affine=True, track_running_stats=True)\n      )\n    )\n    (1): BasicBlock(\n      (conv1): Conv2d(252, 359, kernel_size=(3, 3), stride=(1, 1), padding=(1, 1), bias=False)\n      (bn1): BatchNorm2d(359, eps=1e-05, momentum=0.1, affine=True, track_running_stats=True)\n      (conv2): Conv2d(359, 252, kernel_size=(3, 3), stride=(1, 1), padding=(1, 1), bias=False)\n      (bn2): BatchNorm2d(252, eps=1e-05, momentum=0.1, affine=True, track_running_stats=True)\n      (shortcut): Sequential()\n    )\n  )\n  (linear): Linear(in_features=252, out_features=10, bias=True)\n)"
     },
     "execution_count": 11,
     "metadata": {},
     "output_type": "execute_result"
    }
   ]
  },
  {
   "cell_type": "code",
   "source": [
    "print(\"The number of parameters after pruning is \")\n",
    "print_params(net)"
   ],
   "metadata": {
    "colab": {
     "base_uri": "https://localhost:8080/"
    },
    "id": "lAZTZsHwTyOK",
    "outputId": "730f3969-b8dd-420d-e354-999cef1701ce"
   },
   "execution_count": 12,
   "outputs": [
    {
     "name": "stdout",
     "output_type": "stream",
     "text": [
      "The number of parameters after pruning is \n",
      "Number of parameters  4.5 million\n"
     ]
    }
   ]
  },
  {
   "cell_type": "code",
   "source": [
    "# from torchpruner import (Pruner, ShapleyAttributionMetric)"
   ],
   "metadata": {
    "id": "Ou8nTFiEPAqT"
   },
   "execution_count": 13,
   "outputs": []
  },
  {
   "cell_type": "code",
   "execution_count": 14,
   "outputs": [],
   "source": [
    "def get_pruned_parameters_countget_pruned_parameters_count(pruned_model):\n",
    "    params = 0\n",
    "    for param in pruned_model.parameters():\n",
    "        if param is not None:\n",
    "            params += torch.nonzero(param).size(0)\n",
    "    return params"
   ],
   "metadata": {
    "id": "htKbN2cYXzUh"
   }
  },
  {
   "cell_type": "code",
   "source": [
    "from torchsummary import summary\n",
    "\n",
    "def print_model_summary(model):\n",
    "  print(summary(model.to(\"cpu\"), (3, 32, 32)))\n",
    "\n",
    "print_model_summary(net)"
   ],
   "metadata": {
    "id": "nTqr1gYtVHgE",
    "colab": {
     "base_uri": "https://localhost:8080/"
    },
    "outputId": "10b7609e-e484-4a0d-bdfa-59fa8e724763"
   },
   "execution_count": 16,
   "outputs": [
    {
     "name": "stdout",
     "output_type": "stream",
     "text": [
      "----------------------------------------------------------------\n",
      "        Layer (type)               Output Shape         Param #\n",
      "================================================================\n",
      "            Conv2d-1           [-1, 53, 32, 32]           1,431\n",
      "       BatchNorm2d-2           [-1, 53, 32, 32]             106\n",
      "            Conv2d-3           [-1, 58, 32, 32]          27,666\n",
      "       BatchNorm2d-4           [-1, 58, 32, 32]             116\n",
      "            Conv2d-5           [-1, 53, 32, 32]          27,666\n",
      "       BatchNorm2d-6           [-1, 53, 32, 32]             106\n",
      "        BasicBlock-7           [-1, 53, 32, 32]               0\n",
      "            Conv2d-8           [-1, 58, 32, 32]          27,666\n",
      "       BatchNorm2d-9           [-1, 58, 32, 32]             116\n",
      "           Conv2d-10           [-1, 53, 32, 32]          27,666\n",
      "      BatchNorm2d-11           [-1, 53, 32, 32]             106\n",
      "       BasicBlock-12           [-1, 53, 32, 32]               0\n",
      "           Conv2d-13          [-1, 103, 16, 16]          49,131\n",
      "      BatchNorm2d-14          [-1, 103, 16, 16]             206\n",
      "           Conv2d-15           [-1, 83, 16, 16]          76,941\n",
      "      BatchNorm2d-16           [-1, 83, 16, 16]             166\n",
      "           Conv2d-17           [-1, 83, 16, 16]           4,399\n",
      "      BatchNorm2d-18           [-1, 83, 16, 16]             166\n",
      "       BasicBlock-19           [-1, 83, 16, 16]               0\n",
      "           Conv2d-20          [-1, 103, 16, 16]          76,941\n",
      "      BatchNorm2d-21          [-1, 103, 16, 16]             206\n",
      "           Conv2d-22           [-1, 83, 16, 16]          76,941\n",
      "      BatchNorm2d-23           [-1, 83, 16, 16]             166\n",
      "       BasicBlock-24           [-1, 83, 16, 16]               0\n",
      "           Conv2d-25            [-1, 205, 8, 8]         153,135\n",
      "      BatchNorm2d-26            [-1, 205, 8, 8]             410\n",
      "           Conv2d-27            [-1, 164, 8, 8]         302,580\n",
      "      BatchNorm2d-28            [-1, 164, 8, 8]             328\n",
      "           Conv2d-29            [-1, 164, 8, 8]          13,612\n",
      "      BatchNorm2d-30            [-1, 164, 8, 8]             328\n",
      "       BasicBlock-31            [-1, 164, 8, 8]               0\n",
      "           Conv2d-32            [-1, 205, 8, 8]         302,580\n",
      "      BatchNorm2d-33            [-1, 205, 8, 8]             410\n",
      "           Conv2d-34            [-1, 164, 8, 8]         302,580\n",
      "      BatchNorm2d-35            [-1, 164, 8, 8]             328\n",
      "       BasicBlock-36            [-1, 164, 8, 8]               0\n",
      "           Conv2d-37            [-1, 359, 4, 4]         529,884\n",
      "      BatchNorm2d-38            [-1, 359, 4, 4]             718\n",
      "           Conv2d-39            [-1, 252, 4, 4]         814,212\n",
      "      BatchNorm2d-40            [-1, 252, 4, 4]             504\n",
      "           Conv2d-41            [-1, 252, 4, 4]          41,328\n",
      "      BatchNorm2d-42            [-1, 252, 4, 4]             504\n",
      "       BasicBlock-43            [-1, 252, 4, 4]               0\n",
      "           Conv2d-44            [-1, 359, 4, 4]         814,212\n",
      "      BatchNorm2d-45            [-1, 359, 4, 4]             718\n",
      "           Conv2d-46            [-1, 252, 4, 4]         814,212\n",
      "      BatchNorm2d-47            [-1, 252, 4, 4]             504\n",
      "       BasicBlock-48            [-1, 252, 4, 4]               0\n",
      "           Linear-49                   [-1, 10]           2,530\n",
      "================================================================\n",
      "Total params: 4,493,525\n",
      "Trainable params: 4,493,525\n",
      "Non-trainable params: 0\n",
      "----------------------------------------------------------------\n",
      "Input size (MB): 0.01\n",
      "Forward/backward pass size (MB): 8.69\n",
      "Params size (MB): 17.14\n",
      "Estimated Total Size (MB): 25.84\n",
      "----------------------------------------------------------------\n",
      "None\n"
     ]
    }
   ]
  },
  {
   "cell_type": "code",
   "source": [
    "def print_model_layers(model):\n",
    "  for name, param in model.named_parameters():\n",
    "    print(name, param.size())\n",
    "\n",
    "print_model_layers(net)"
   ],
   "metadata": {
    "id": "tejFfYvQJxR5",
    "colab": {
     "base_uri": "https://localhost:8080/"
    },
    "outputId": "3d045c36-4433-4e50-b827-3e11ba41f24c"
   },
   "execution_count": 17,
   "outputs": [
    {
     "name": "stdout",
     "output_type": "stream",
     "text": [
      "conv1.weight torch.Size([53, 3, 3, 3])\n",
      "bn1.weight torch.Size([53])\n",
      "bn1.bias torch.Size([53])\n",
      "layer1.0.conv1.weight torch.Size([58, 53, 3, 3])\n",
      "layer1.0.bn1.weight torch.Size([58])\n",
      "layer1.0.bn1.bias torch.Size([58])\n",
      "layer1.0.conv2.weight torch.Size([53, 58, 3, 3])\n",
      "layer1.0.bn2.weight torch.Size([53])\n",
      "layer1.0.bn2.bias torch.Size([53])\n",
      "layer1.1.conv1.weight torch.Size([58, 53, 3, 3])\n",
      "layer1.1.bn1.weight torch.Size([58])\n",
      "layer1.1.bn1.bias torch.Size([58])\n",
      "layer1.1.conv2.weight torch.Size([53, 58, 3, 3])\n",
      "layer1.1.bn2.weight torch.Size([53])\n",
      "layer1.1.bn2.bias torch.Size([53])\n",
      "layer2.0.conv1.weight torch.Size([103, 53, 3, 3])\n",
      "layer2.0.bn1.weight torch.Size([103])\n",
      "layer2.0.bn1.bias torch.Size([103])\n",
      "layer2.0.conv2.weight torch.Size([83, 103, 3, 3])\n",
      "layer2.0.bn2.weight torch.Size([83])\n",
      "layer2.0.bn2.bias torch.Size([83])\n",
      "layer2.0.shortcut.0.weight torch.Size([83, 53, 1, 1])\n",
      "layer2.0.shortcut.1.weight torch.Size([83])\n",
      "layer2.0.shortcut.1.bias torch.Size([83])\n",
      "layer2.1.conv1.weight torch.Size([103, 83, 3, 3])\n",
      "layer2.1.bn1.weight torch.Size([103])\n",
      "layer2.1.bn1.bias torch.Size([103])\n",
      "layer2.1.conv2.weight torch.Size([83, 103, 3, 3])\n",
      "layer2.1.bn2.weight torch.Size([83])\n",
      "layer2.1.bn2.bias torch.Size([83])\n",
      "layer3.0.conv1.weight torch.Size([205, 83, 3, 3])\n",
      "layer3.0.bn1.weight torch.Size([205])\n",
      "layer3.0.bn1.bias torch.Size([205])\n",
      "layer3.0.conv2.weight torch.Size([164, 205, 3, 3])\n",
      "layer3.0.bn2.weight torch.Size([164])\n",
      "layer3.0.bn2.bias torch.Size([164])\n",
      "layer3.0.shortcut.0.weight torch.Size([164, 83, 1, 1])\n",
      "layer3.0.shortcut.1.weight torch.Size([164])\n",
      "layer3.0.shortcut.1.bias torch.Size([164])\n",
      "layer3.1.conv1.weight torch.Size([205, 164, 3, 3])\n",
      "layer3.1.bn1.weight torch.Size([205])\n",
      "layer3.1.bn1.bias torch.Size([205])\n",
      "layer3.1.conv2.weight torch.Size([164, 205, 3, 3])\n",
      "layer3.1.bn2.weight torch.Size([164])\n",
      "layer3.1.bn2.bias torch.Size([164])\n",
      "layer4.0.conv1.weight torch.Size([359, 164, 3, 3])\n",
      "layer4.0.bn1.weight torch.Size([359])\n",
      "layer4.0.bn1.bias torch.Size([359])\n",
      "layer4.0.conv2.weight torch.Size([252, 359, 3, 3])\n",
      "layer4.0.bn2.weight torch.Size([252])\n",
      "layer4.0.bn2.bias torch.Size([252])\n",
      "layer4.0.shortcut.0.weight torch.Size([252, 164, 1, 1])\n",
      "layer4.0.shortcut.1.weight torch.Size([252])\n",
      "layer4.0.shortcut.1.bias torch.Size([252])\n",
      "layer4.1.conv1.weight torch.Size([359, 252, 3, 3])\n",
      "layer4.1.bn1.weight torch.Size([359])\n",
      "layer4.1.bn1.bias torch.Size([359])\n",
      "layer4.1.conv2.weight torch.Size([252, 359, 3, 3])\n",
      "layer4.1.bn2.weight torch.Size([252])\n",
      "layer4.1.bn2.bias torch.Size([252])\n",
      "linear.weight torch.Size([10, 252])\n",
      "linear.bias torch.Size([10])\n"
     ]
    }
   ]
  },
  {
   "cell_type": "code",
   "source": [
    "def freeze_layer(layer_name):\n",
    "  for param_name, param in net.named_parameters():\n",
    "    if layer_name in param_name:\n",
    "      param.requires_grad = False"
   ],
   "metadata": {
    "id": "iod4A6RJVzBb"
   },
   "execution_count": 18,
   "outputs": []
  },
  {
   "cell_type": "code",
   "source": [
    "# freeze_layer(\"layer3\")"
   ],
   "metadata": {
    "id": "D4CjYR_cLnDx"
   },
   "execution_count": 19,
   "outputs": []
  },
  {
   "cell_type": "code",
   "source": [
    "print_model_summary(net)"
   ],
   "metadata": {
    "colab": {
     "base_uri": "https://localhost:8080/"
    },
    "id": "WDYLyuksFbiB",
    "outputId": "cf6e5793-3949-4688-bd45-10dc542dfda5"
   },
   "execution_count": 20,
   "outputs": [
    {
     "name": "stdout",
     "output_type": "stream",
     "text": [
      "----------------------------------------------------------------\n",
      "        Layer (type)               Output Shape         Param #\n",
      "================================================================\n",
      "            Conv2d-1           [-1, 53, 32, 32]           1,431\n",
      "       BatchNorm2d-2           [-1, 53, 32, 32]             106\n",
      "            Conv2d-3           [-1, 58, 32, 32]          27,666\n",
      "       BatchNorm2d-4           [-1, 58, 32, 32]             116\n",
      "            Conv2d-5           [-1, 53, 32, 32]          27,666\n",
      "       BatchNorm2d-6           [-1, 53, 32, 32]             106\n",
      "        BasicBlock-7           [-1, 53, 32, 32]               0\n",
      "            Conv2d-8           [-1, 58, 32, 32]          27,666\n",
      "       BatchNorm2d-9           [-1, 58, 32, 32]             116\n",
      "           Conv2d-10           [-1, 53, 32, 32]          27,666\n",
      "      BatchNorm2d-11           [-1, 53, 32, 32]             106\n",
      "       BasicBlock-12           [-1, 53, 32, 32]               0\n",
      "           Conv2d-13          [-1, 103, 16, 16]          49,131\n",
      "      BatchNorm2d-14          [-1, 103, 16, 16]             206\n",
      "           Conv2d-15           [-1, 83, 16, 16]          76,941\n",
      "      BatchNorm2d-16           [-1, 83, 16, 16]             166\n",
      "           Conv2d-17           [-1, 83, 16, 16]           4,399\n",
      "      BatchNorm2d-18           [-1, 83, 16, 16]             166\n",
      "       BasicBlock-19           [-1, 83, 16, 16]               0\n",
      "           Conv2d-20          [-1, 103, 16, 16]          76,941\n",
      "      BatchNorm2d-21          [-1, 103, 16, 16]             206\n",
      "           Conv2d-22           [-1, 83, 16, 16]          76,941\n",
      "      BatchNorm2d-23           [-1, 83, 16, 16]             166\n",
      "       BasicBlock-24           [-1, 83, 16, 16]               0\n",
      "           Conv2d-25            [-1, 205, 8, 8]         153,135\n",
      "      BatchNorm2d-26            [-1, 205, 8, 8]             410\n",
      "           Conv2d-27            [-1, 164, 8, 8]         302,580\n",
      "      BatchNorm2d-28            [-1, 164, 8, 8]             328\n",
      "           Conv2d-29            [-1, 164, 8, 8]          13,612\n",
      "      BatchNorm2d-30            [-1, 164, 8, 8]             328\n",
      "       BasicBlock-31            [-1, 164, 8, 8]               0\n",
      "           Conv2d-32            [-1, 205, 8, 8]         302,580\n",
      "      BatchNorm2d-33            [-1, 205, 8, 8]             410\n",
      "           Conv2d-34            [-1, 164, 8, 8]         302,580\n",
      "      BatchNorm2d-35            [-1, 164, 8, 8]             328\n",
      "       BasicBlock-36            [-1, 164, 8, 8]               0\n",
      "           Conv2d-37            [-1, 359, 4, 4]         529,884\n",
      "      BatchNorm2d-38            [-1, 359, 4, 4]             718\n",
      "           Conv2d-39            [-1, 252, 4, 4]         814,212\n",
      "      BatchNorm2d-40            [-1, 252, 4, 4]             504\n",
      "           Conv2d-41            [-1, 252, 4, 4]          41,328\n",
      "      BatchNorm2d-42            [-1, 252, 4, 4]             504\n",
      "       BasicBlock-43            [-1, 252, 4, 4]               0\n",
      "           Conv2d-44            [-1, 359, 4, 4]         814,212\n",
      "      BatchNorm2d-45            [-1, 359, 4, 4]             718\n",
      "           Conv2d-46            [-1, 252, 4, 4]         814,212\n",
      "      BatchNorm2d-47            [-1, 252, 4, 4]             504\n",
      "       BasicBlock-48            [-1, 252, 4, 4]               0\n",
      "           Linear-49                   [-1, 10]           2,530\n",
      "================================================================\n",
      "Total params: 4,493,525\n",
      "Trainable params: 4,493,525\n",
      "Non-trainable params: 0\n",
      "----------------------------------------------------------------\n",
      "Input size (MB): 0.01\n",
      "Forward/backward pass size (MB): 8.69\n",
      "Params size (MB): 17.14\n",
      "Estimated Total Size (MB): 25.84\n",
      "----------------------------------------------------------------\n",
      "None\n"
     ]
    }
   ]
  },
  {
   "cell_type": "code",
   "execution_count": 21,
   "outputs": [
    {
     "name": "stdout",
     "output_type": "stream",
     "text": [
      "The total number of parameters before the pruning is \n",
      "Number of parameters  4.5 million\n"
     ]
    }
   ],
   "source": [
    "print(\"The total number of parameters before the pruning is \")\n",
    "print_params(net)"
   ],
   "metadata": {
    "colab": {
     "base_uri": "https://localhost:8080/"
    },
    "id": "IseBUFvnXzUj",
    "outputId": "5c968ef9-92bb-4a93-f9a9-b2e295cc72bd"
   }
  },
  {
   "cell_type": "code",
   "source": [
    "net = net.to(device)\n",
    "if device == 'cuda':\n",
    "    net = torch.nn.DataParallel(net)\n",
    "    cudnn.benchmark = True\n",
    "\n",
    "lr = 0.001\n",
    "criterion = nn.CrossEntropyLoss()\n",
    "\n",
    "#optimizer = optim.Adam(net.parameters(), lr=lr, weight_decay=5e-4)\n",
    "\n",
    "optimizer = optim.SGD(net.parameters(), lr=lr,\n",
    "                       momentum=0.9, weight_decay=5e-4)\n",
    "\n",
    "# scheduler = torch.optim.lr_scheduler.CosineAnnealingLR(optimizer, T_max=200)\n",
    "\n",
    "save_loss = {'train':[], 'test':[]}\n",
    "save_acc = {'train':[], 'test':[]}\n",
    "\n",
    "train_acc_array, train_loss_array = [], [] # for plotting\n",
    "val_acc_array, val_loss_array = [], [] # for plotting"
   ],
   "metadata": {
    "id": "a3kWtBzVWg3Y"
   },
   "execution_count": 22,
   "outputs": []
  },
  {
   "cell_type": "code",
   "source": [
    "# Training\n",
    "def train(epoch):\n",
    "    print('\\nEpoch: %d' % epoch)\n",
    "    net.train()\n",
    "    train_loss = 0\n",
    "    correct = 0\n",
    "    total = 0\n",
    "    train_acc = 0\n",
    "    for batch_idx, (inputs, targets) in enumerate(trainloader):\n",
    "        inputs, targets = inputs.to(device), targets.to(device)\n",
    "        optimizer.zero_grad()\n",
    "        outputs = net(inputs)\n",
    "        loss = criterion(outputs, targets)\n",
    "        loss.backward()\n",
    "        optimizer.step()\n",
    "\n",
    "        train_loss += loss.item()\n",
    "        _, predicted = outputs.max(1)\n",
    "        total += targets.size(0)\n",
    "        correct += predicted.eq(targets).sum().item()\n",
    "\n",
    "        train_acc=100.*correct/total\n",
    "        progress_bar(batch_idx, len(trainloader), 'Train Loss: %.3f | Train Acc: %.3f%% (%d/%d)'\n",
    "                     % (train_loss/(batch_idx+1), 100.*correct/total, correct, total))\n",
    "\n",
    "    train_acc_array.append(train_acc) # for plottting\n",
    "    train_loss_array.append(train_loss) # for plottting\n"
   ],
   "metadata": {
    "id": "CIzJObnOWz2d"
   },
   "execution_count": 23,
   "outputs": []
  },
  {
   "cell_type": "code",
   "source": [
    "def evaluate(epoch): # validation\n",
    "   \n",
    "    global best_acc\n",
    "    net.eval()\n",
    "    valid_loss = 0\n",
    "    correct = 0\n",
    "    total = 0\n",
    "    with torch.no_grad():\n",
    "          \n",
    "        for batch_idx, (inputs, targets) in enumerate(val_loader):\n",
    "            inputs, targets = inputs.to(device), targets.to(device)\n",
    "            outputs = net(inputs)\n",
    "            loss = criterion(outputs, targets)\n",
    "\n",
    "            valid_loss += loss.item()\n",
    "            _, predicted = outputs.max(1)\n",
    "            total += targets.size(0)\n",
    "            correct += predicted.eq(targets).sum().item()\n",
    "\n",
    "            progress_bar(batch_idx, len(val_loader), 'Valid Loss: %.3f | Valid Acc: %.3f%% (%d/%d)'\n",
    "                         % (valid_loss/(batch_idx+1), 100.*correct/total, correct, total))\n",
    "\n",
    "    # Save checkpoint.\n",
    "    valid_acc = 100.*correct/total\n",
    "    if valid_acc > best_acc:\n",
    "        print('Saving..')\n",
    "        state = {\n",
    "            'net_state_dict': net.state_dict(),\n",
    "            'acc': valid_acc,\n",
    "            'epoch': epoch,\n",
    "        }\n",
    "        if not os.path.isdir('checkpoint'):\n",
    "            os.mkdir('checkpoint')\n",
    "        torch.save(state, './checkpoint/ckpt.pth')\n",
    "        best_acc = valid_acc\n",
    "    val_acc_array.append(valid_acc) # for plottting\n",
    "    val_loss_array.append(valid_loss) # for plottting"
   ],
   "metadata": {
    "id": "0CHlPBF6uIhT"
   },
   "execution_count": 24,
   "outputs": []
  },
  {
   "cell_type": "code",
   "source": [
    "# Load the best model parameters (measured in terms of validation loss) and evaluate the loss/accuracy on the test set.\n",
    "def test(): \n",
    "   \n",
    "    test_loss = 0\n",
    "    correct = 0\n",
    "    total = 0\n",
    "    checkpoint = torch.load('./checkpoint/ckpt.pth')\n",
    "    net.load_state_dict(checkpoint['net_state_dict'])\n",
    "    best_epoch = checkpoint['epoch']\n",
    "    best_acc = checkpoint['acc']\n",
    "    net.eval()\n",
    "    print(f'Best validation acc: {best_acc:.3f}% at Epoch {best_epoch}')\n",
    "    with torch.no_grad():\n",
    "          \n",
    "        for batch_idx, (inputs, targets) in enumerate(testloader):\n",
    "            inputs, targets = inputs.to(device), targets.to(device)\n",
    "            outputs = net(inputs) \n",
    "            loss = criterion(outputs, targets)\n",
    "\n",
    "            test_loss += loss.item()\n",
    "            _, predicted = outputs.max(1)\n",
    "            total += targets.size(0)\n",
    "            correct += predicted.eq(targets).sum().item()\n",
    "\n",
    "            progress_bar(batch_idx, len(testloader), 'Test Loss: %.3f | Test Acc: %.3f%% (%d/%d)'\n",
    "                         % (test_loss/(batch_idx+1), 100.*correct/total, correct, total))\n"
   ],
   "metadata": {
    "id": "G5i2dqetBgXp"
   },
   "execution_count": 25,
   "outputs": []
  },
  {
   "cell_type": "code",
   "execution_count": 26,
   "outputs": [
    {
     "name": "stdout",
     "output_type": "stream",
     "text": [
      "Using device  mps\n"
     ]
    }
   ],
   "source": [
    "print(\"Using device \", device)"
   ],
   "metadata": {
    "colab": {
     "base_uri": "https://localhost:8080/"
    },
    "id": "Qyuhb-GrXzUo",
    "outputId": "f1b21fae-e4f1-42b1-ef23-b8e84cf3b1bc"
   }
  },
  {
   "cell_type": "code",
   "execution_count": 27,
   "outputs": [
    {
     "name": "stdout",
     "output_type": "stream",
     "text": [
      "Number of parameters  4.5 million\n"
     ]
    }
   ],
   "source": [
    "print_params(net)"
   ],
   "metadata": {
    "colab": {
     "base_uri": "https://localhost:8080/"
    },
    "id": "79HcWh5aXzUq",
    "outputId": "fa97d4d8-5e18-4e91-ae26-31794cda08f5"
   }
  },
  {
   "cell_type": "code",
   "source": [
    "NUM_EPOCHS = 150\n",
    "\n",
    "for epoch in range(start_epoch, start_epoch + NUM_EPOCHS):\n",
    "    train(epoch)\n",
    "    evaluate(epoch)\n",
    "    # scheduler.step()\n",
    "\n",
    "print('---------------------------------------- Testing Model... ----------------------------------------')\n",
    "test()"
   ],
   "metadata": {
    "colab": {
     "base_uri": "https://localhost:8080/"
    },
    "id": "jJcMkrBzW7o7",
    "outputId": "7e00e388-669e-464e-f070-8cfb21090995",
    "pycharm": {
     "is_executing": true
    }
   },
   "execution_count": null,
   "outputs": [
    {
     "name": "stdout",
     "output_type": "stream",
     "text": [
      "\n",
      "Epoch: 0\n",
      " [=>.....]  Step: 191ms | Tot: 15s76ms | Train Loss: 2.218 | Train Acc: 15.961% (1614/10 79/352 \r"
     ]
    }
   ]
  },
  {
   "cell_type": "code",
   "source": [],
   "metadata": {
    "id": "sjj5T7v5ONfA"
   },
   "execution_count": 29,
   "outputs": []
  },
  {
   "cell_type": "code",
   "execution_count": 30,
   "outputs": [
    {
     "output_type": "stream",
     "name": "stdout",
     "text": [
      "Number of parameters  4.5 million\n"
     ]
    }
   ],
   "source": [
    "print_params(net)"
   ],
   "metadata": {
    "id": "8F9l3iSKXzUs",
    "colab": {
     "base_uri": "https://localhost:8080/"
    },
    "outputId": "c38db1e4-2c6d-4106-9f3b-e17093c2a64b"
   }
  },
  {
   "cell_type": "code",
   "source": [
    "net.parameters()"
   ],
   "metadata": {
    "id": "DRtpQiLSWkIT",
    "colab": {
     "base_uri": "https://localhost:8080/"
    },
    "outputId": "7be0c332-b0c2-4b71-e0e9-544fbe165f81"
   },
   "execution_count": 31,
   "outputs": [
    {
     "output_type": "execute_result",
     "data": {
      "text/plain": [
       "<generator object Module.parameters at 0x7f06d89471d0>"
      ]
     },
     "metadata": {},
     "execution_count": 31
    }
   ]
  },
  {
   "cell_type": "code",
   "source": [
    "train_acc_array"
   ],
   "metadata": {
    "id": "6z_TwWP4Xkca",
    "colab": {
     "base_uri": "https://localhost:8080/"
    },
    "outputId": "5a4387f6-f104-4c59-e904-5a1d8845679d"
   },
   "execution_count": 32,
   "outputs": [
    {
     "output_type": "execute_result",
     "data": {
      "text/plain": [
       "[35.40888888888889,\n",
       " 54.193333333333335,\n",
       " 63.208888888888886,\n",
       " 67.74,\n",
       " 71.28222222222222,\n",
       " 73.75777777777778,\n",
       " 75.60888888888888,\n",
       " 76.98444444444445,\n",
       " 78.11777777777777,\n",
       " 78.68888888888888,\n",
       " 79.88444444444444,\n",
       " 80.96888888888888,\n",
       " 81.27111111111111,\n",
       " 82.2088888888889,\n",
       " 82.7088888888889,\n",
       " 83.12444444444445,\n",
       " 83.52,\n",
       " 84.04888888888888,\n",
       " 84.46666666666667,\n",
       " 84.86222222222223,\n",
       " 85.28888888888889,\n",
       " 85.48,\n",
       " 85.99777777777778,\n",
       " 86.0911111111111,\n",
       " 86.16,\n",
       " 86.21333333333334,\n",
       " 87.1288888888889,\n",
       " 87.03555555555556,\n",
       " 87.02222222222223,\n",
       " 87.84444444444445,\n",
       " 88.04888888888888,\n",
       " 88.01333333333334,\n",
       " 88.31777777777778,\n",
       " 88.67777777777778,\n",
       " 88.58444444444444,\n",
       " 88.71777777777778,\n",
       " 88.98444444444445,\n",
       " 88.98666666666666,\n",
       " 89.30666666666667,\n",
       " 89.52222222222223,\n",
       " 89.86,\n",
       " 89.64888888888889,\n",
       " 89.77777777777777,\n",
       " 90.14666666666666,\n",
       " 90.15777777777778,\n",
       " 90.19333333333333,\n",
       " 90.34444444444445,\n",
       " 90.4088888888889,\n",
       " 90.52,\n",
       " 90.62222222222222]"
      ]
     },
     "metadata": {},
     "execution_count": 32
    }
   ]
  },
  {
   "cell_type": "code",
   "source": [
    "\n",
    "\n",
    "fig = plt.figure(figsize=(16,6))\n",
    "\n",
    "plt.subplot(121)\n",
    "plt.plot(np.arange(1,NUM_EPOCHS+1),train_acc_array)\n",
    "plt.plot(np.arange(1,NUM_EPOCHS+1),val_acc_array)\n",
    "plt.title(\"Accuray\")\n",
    "plt.xlabel(\"Epochs\")\n",
    "plt.ylabel(\"Accuracy\")\n",
    "plt.legend([\"Train Acc\",\"Valid Acc\"],loc = \"upper right\")\n",
    "\n",
    "\n",
    "plt.subplot(122)\n",
    "plt.plot(np.arange(1,NUM_EPOCHS+1,dtype=int),train_loss_array)\n",
    "plt.plot(np.arange(1,NUM_EPOCHS+1,dtype=int),val_loss_array)\n",
    "plt.title(\"Loss\")\n",
    "plt.xlabel(\"Epochs\")\n",
    "plt.ylabel(\"Loss\")\n",
    "plt.legend(['train loss', 'valid loss'], loc=\"upper right\")\n",
    "\n",
    "plt.show()"
   ],
   "metadata": {
    "colab": {
     "base_uri": "https://localhost:8080/",
     "height": 404
    },
    "id": "JHKohhBDJRIP",
    "outputId": "bc0ec6a6-611c-4ba3-e9f4-a5bc072de42f"
   },
   "execution_count": 33,
   "outputs": [
    {
     "output_type": "display_data",
     "data": {
      "text/plain": [
       "<Figure size 1152x432 with 2 Axes>"
      ],
      "image/png": "[encoded data removed]"
     },
     "metadata": {
      "needs_background": "light"
     }
    }
   ]
  },
  {
   "cell_type": "code",
   "source": [
    "# can you create a subset of params exclusing pruned weights ?"
   ],
   "metadata": {
    "id": "JX1dmdIIuPOo"
   },
   "execution_count": 34,
   "outputs": []
  }
 ]
}