{
  "nbformat": 4,
  "nbformat_minor": 0,
  "metadata": {
    "colab": {
      "provenance": [],
      "collapsed_sections": [],
      "machine_shape": "hm"
    },
    "kernelspec": {
      "name": "python3",
      "display_name": "Python 3"
    },
    "language_info": {
      "name": "python"
    },
    "accelerator": "GPU",
    "gpuClass": "premium"
  },
  "cells": [
    {
      "cell_type": "code",
      "execution_count": 1,
      "outputs": [],
      "source": [
        "import ssl\n",
        "def set_up_ssl():\n",
        "    try:\n",
        "        _create_unverified_https_context = ssl._create_unverified_context\n",
        "    except AttributeError:\n",
        "        pass\n",
        "    else:\n",
        "        ssl._create_default_https_context = _create_unverified_https_context\n",
        "\n",
        "set_up_ssl()"
      ],
      "metadata": {
        "id": "GXI-w576XzT_"
      }
    },
    {
      "cell_type": "code",
      "source": [
        "import torch\n",
        "import torch.nn as nn\n",
        "import torch.optim as optim\n",
        "import torch.nn.functional as F\n",
        "import torch.backends.cudnn as cudnn\n",
        "\n",
        "import torchvision\n",
        "import torchvision.transforms as transforms\n",
        "\n",
        "import os\n",
        "import argparse\n",
        "\n"
      ],
      "metadata": {
        "id": "wTLc4fVcQ857"
      },
      "execution_count": 2,
      "outputs": []
    },
    {
      "cell_type": "code",
      "source": [
        "import os\n",
        "import sys\n",
        "import time\n",
        "import math\n",
        "import torch.nn as nn\n",
        "import torch.nn.init as init\n",
        "\n",
        "term_width = 5\n",
        "TOTAL_BAR_LENGTH = 7\n",
        "last_time = time.time()\n",
        "begin_time = last_time\n",
        "def progress_bar(current, total, msg=None):\n",
        "    global last_time, begin_time\n",
        "    if current == 0:\n",
        "        begin_time = time.time()  # Reset for new bar.\n",
        "\n",
        "    cur_len = int(TOTAL_BAR_LENGTH*current/total)\n",
        "    rest_len = int(TOTAL_BAR_LENGTH - cur_len) - 1\n",
        "\n",
        "    sys.stdout.write(' [')\n",
        "    for i in range(cur_len):\n",
        "        sys.stdout.write('=')\n",
        "    sys.stdout.write('>')\n",
        "    for i in range(rest_len):\n",
        "        sys.stdout.write('.')\n",
        "    sys.stdout.write(']')\n",
        "\n",
        "    cur_time = time.time()\n",
        "    step_time = cur_time - last_time\n",
        "    last_time = cur_time\n",
        "    tot_time = cur_time - begin_time\n",
        "\n",
        "    L = []\n",
        "    L.append('  Step: %s' % format_time(step_time))\n",
        "    L.append(' | Tot: %s' % format_time(tot_time))\n",
        "    if msg:\n",
        "        L.append(' | ' + msg)\n",
        "\n",
        "    msg = ''.join(L)\n",
        "    sys.stdout.write(msg)\n",
        "    for i in range(term_width-int(TOTAL_BAR_LENGTH)-len(msg)-3):\n",
        "        sys.stdout.write(' ')\n",
        "\n",
        "    # Go back to the center of the bar.\n",
        "    for i in range(term_width-int(TOTAL_BAR_LENGTH/2)+2):\n",
        "        sys.stdout.write('\\b')\n",
        "    sys.stdout.write(' %d/%d ' % (current+1, total))\n",
        "\n",
        "    if current < total-1:\n",
        "        sys.stdout.write('\\r')\n",
        "    else:\n",
        "        sys.stdout.write('\\n')\n",
        "    sys.stdout.flush()\n",
        "\n",
        "def format_time(seconds):\n",
        "    days = int(seconds / 3600/24)\n",
        "    seconds = seconds - days*3600*24\n",
        "    hours = int(seconds / 3600)\n",
        "    seconds = seconds - hours*3600\n",
        "    minutes = int(seconds / 60)\n",
        "    seconds = seconds - minutes*60\n",
        "    secondsf = int(seconds)\n",
        "    seconds = seconds - secondsf\n",
        "    millis = int(seconds*1000)\n",
        "\n",
        "    f = ''\n",
        "    i = 1\n",
        "    if days > 0:\n",
        "        f += str(days) + 'D'\n",
        "        i += 1\n",
        "    if hours > 0 and i <= 2:\n",
        "        f += str(hours) + 'h'\n",
        "        i += 1\n",
        "    if minutes > 0 and i <= 2:\n",
        "        f += str(minutes) + 'm'\n",
        "        i += 1\n",
        "    if secondsf > 0 and i <= 2:\n",
        "        f += str(secondsf) + 's'\n",
        "        i += 1\n",
        "    if millis > 0 and i <= 2:\n",
        "        f += str(millis) + 'ms'\n",
        "        i += 1\n",
        "    if f == '':\n",
        "        f = '0ms'\n",
        "    return f"
      ],
      "metadata": {
        "id": "jQeGvfSCRM4i"
      },
      "execution_count": 3,
      "outputs": []
    },
    {
      "cell_type": "code",
      "execution_count": 4,
      "outputs": [],
      "source": [
        "'''ResNet in PyTorch.\n",
        "For Pre-activation ResNet, see 'preact_resnet.py'.\n",
        "Reference:\n",
        "[1] Kaiming He, Xiangyu Zhang, Shaoqing Ren, Jian Sun\n",
        "    Deep Residual Learning for Image Recognition. arXiv:1512.03385\n",
        "'''\n",
        "import torch\n",
        "import torch.nn as nn\n",
        "import torch.nn.functional as F\n",
        "import torch.nn.utils.prune as prune\n",
        "\n",
        "\n",
        "class BasicBlock(nn.Module):\n",
        "    expansion = 1\n",
        "\n",
        "    def __init__(self, in_planes, planes, stride=1):\n",
        "        super(BasicBlock, self).__init__()\n",
        "        self.conv1 = nn.Conv2d(\n",
        "            in_planes, planes, kernel_size=3, stride=stride, padding=1, bias=False)\n",
        "        # pruning model parameters in the first convolution layer\n",
        "        prune.random_unstructured(self.conv1, name='weight', amount=0.6)\n",
        "        prune.remove(self.conv1, 'weight')\n",
        "        self.bn1 = nn.BatchNorm2d(planes)\n",
        "        self.conv2 = nn.Conv2d(planes, planes, kernel_size=3,\n",
        "                               stride=1, padding=1, bias=False)\n",
        "        # pruning model parameters in the second convolution layer\n",
        "        prune.random_unstructured(self.conv2, name='weight', amount=0.6)\n",
        "        prune.remove(self.conv2, 'weight')\n",
        "        self.bn2 = nn.BatchNorm2d(planes)\n",
        "        self.shortcut = nn.Sequential()\n",
        "        if stride != 1 or in_planes != self.expansion*planes:\n",
        "            self.shortcut = nn.Sequential(\n",
        "                nn.Conv2d(in_planes, self.expansion*planes,\n",
        "                          kernel_size=1, stride=stride, bias=False),\n",
        "                nn.BatchNorm2d(self.expansion*planes)\n",
        "            )\n",
        "\n",
        "    def forward(self, x):\n",
        "        out = F.relu(self.bn1(self.conv1(x)))\n",
        "        out = self.bn2(self.conv2(out))\n",
        "        out += self.shortcut(x)\n",
        "        out = F.relu(out)\n",
        "        return out\n",
        "\n",
        "\n",
        "class Bottleneck(nn.Module):\n",
        "    expansion = 4\n",
        "\n",
        "    def __init__(self, in_planes, planes, stride=1):\n",
        "        super(Bottleneck, self).__init__()\n",
        "        self.conv1 = nn.Conv2d(in_planes, planes, kernel_size=1, bias=False)\n",
        "        prune.random_unstructured(self.conv1, name='weight', amount=0.5)\n",
        "        prune.remove(self.conv1, 'weight')\n",
        "        self.bn1 = nn.BatchNorm2d(planes)\n",
        "        self.conv2 = nn.Conv2d(planes, planes, kernel_size=3,\n",
        "                               stride=stride, padding=1, bias=False)\n",
        "        prune.random_unstructured(self.conv2, name='weight', amount=0.5)\n",
        "        prune.remove(self.conv2, 'weight')\n",
        "        self.bn2 = nn.BatchNorm2d(planes)\n",
        "        self.conv3 = nn.Conv2d(planes, self.expansion *\n",
        "                               planes, kernel_size=1, bias=False)\n",
        "        prune.random_unstructured(self.conv3, name='weight', amount=0.5)\n",
        "        prune.remove(self.conv3, 'weight')\n",
        "        self.bn3 = nn.BatchNorm2d(self.expansion*planes)\n",
        "\n",
        "        self.shortcut = nn.Sequential()\n",
        "        if stride != 1 or in_planes != self.expansion*planes:\n",
        "            self.shortcut = nn.Sequential(\n",
        "                nn.Conv2d(in_planes, self.expansion*planes,\n",
        "                          kernel_size=1, stride=stride, bias=False),\n",
        "                nn.BatchNorm2d(self.expansion*planes)\n",
        "            )\n",
        "\n",
        "    def forward(self, x):\n",
        "        out = F.relu(self.bn1(self.conv1(x)))\n",
        "        out = F.relu(self.bn2(self.conv2(out)))\n",
        "        out = self.bn3(self.conv3(out))\n",
        "        out += self.shortcut(x)\n",
        "        out = F.relu(out)\n",
        "        return out\n",
        "\n",
        "\n",
        "class ResNet(nn.Module):\n",
        "    def __init__(self, block, num_blocks, num_classes=10):\n",
        "        super(ResNet, self).__init__()\n",
        "        self.in_planes = 64\n",
        "\n",
        "        self.conv1 = nn.Conv2d(3, 64, kernel_size=3,\n",
        "                               stride=1, padding=1, bias=False)\n",
        "        prune.random_unstructured(self.conv1, name='weight', amount=0.5)\n",
        "        prune.remove(self.conv1, 'weight')\n",
        "        self.bn1 = nn.BatchNorm2d(64)\n",
        "        self.layer1 = self._make_layer(block, 64, num_blocks[0], stride=1)\n",
        "        self.layer2 = self._make_layer(block, 128, num_blocks[1], stride=2)\n",
        "        self.layer3 = self._make_layer(block, 256, num_blocks[2], stride=2)\n",
        "        # removing the 4th layer to reduce the size of the network\n",
        "        self.layer4 = self._make_layer(block, 512, num_blocks[3], stride=2)\n",
        "        self.linear = nn.Linear(512*block.expansion, num_classes)\n",
        "        prune.random_unstructured(self.linear, name='weight', amount=0.5)\n",
        "        prune.remove(self.linear, 'weight')\n",
        "\n",
        "    def _make_layer(self, block, planes, num_blocks, stride):\n",
        "        strides = [stride] + [1]*(num_blocks-1)\n",
        "        layers = []\n",
        "        for stride in strides:\n",
        "            layers.append(block(self.in_planes, planes, stride))\n",
        "            self.in_planes = planes * block.expansion\n",
        "        return nn.Sequential(*layers)\n",
        "\n",
        "    def forward(self, x):\n",
        "        out = F.relu(self.bn1(self.conv1(x)))\n",
        "        out = self.layer1(out)\n",
        "        out = self.layer2(out)\n",
        "        out = self.layer3(out)\n",
        "        # removing the 4th layer to reduce the size of the network\n",
        "        out = self.layer4(out)\n",
        "        out = F.avg_pool2d(out, 4)\n",
        "        out = out.view(out.size(0), -1)\n",
        "        out = self.linear(out)\n",
        "        return out\n",
        "\n",
        "\n",
        "def ResNet18():\n",
        "    return ResNet(BasicBlock, [2, 2, 2, 2])\n",
        "\n",
        "\n",
        "def ResNet34():\n",
        "    return ResNet(BasicBlock, [3, 4, 6, 3])\n",
        "\n",
        "\n",
        "def ResNet50():\n",
        "    return ResNet(Bottleneck, [3, 4, 6, 3])\n",
        "\n",
        "\n",
        "def ResNet101():\n",
        "    return ResNet(Bottleneck, [3, 4, 23, 3])\n",
        "\n",
        "\n",
        "def ResNet152():\n",
        "    return ResNet(Bottleneck, [3, 8, 36, 3])\n",
        "\n",
        "\n",
        "def test():\n",
        "    net = ResNet18()\n",
        "    y = net(torch.randn(1, 3, 32, 32))\n",
        "    print(y.size())\n"
      ],
      "metadata": {
        "id": "wTCFIHn0XzUL"
      }
    },
    {
      "cell_type": "code",
      "source": [
        "LOCAL_M1 = False\n",
        "\n",
        "if LOCAL_M1:\n",
        "    device = 'cuda' if torch.cuda.is_available() else 'mps'\n",
        "else:\n",
        "    device = 'cuda' if torch.cuda.is_available() else 'cpu'\n",
        "\n",
        "best_acc = 0  # best test accuracy\n",
        "start_epoch = 0  # start from epoch 0 or last checkpoint epoch\n",
        "\n",
        "# Data\n",
        "print('==> Preparing data..')\n",
        "transform_train = transforms.Compose([\n",
        "    transforms.RandomHorizontalFlip(),\n",
        "    transforms.RandomCrop(32, padding=4),\n",
        "    transforms.AutoAugment(transforms.AutoAugmentPolicy.CIFAR10),\n",
        "    transforms.ToTensor(),\n",
        "    transforms.Normalize((0.4914, 0.4822, 0.4465), (0.2023, 0.1994, 0.2010)),\n",
        "    #transforms.RandomErasing()\n",
        "\n",
        "   \n",
        "])\n",
        "\n",
        "transform_test = transforms.Compose([\n",
        "    transforms.ToTensor(),\n",
        "    transforms.Normalize((0.4914, 0.4822, 0.4465), (0.2023, 0.1994, 0.2010)),\n",
        "])\n",
        "\n",
        "trainset = torchvision.datasets.CIFAR10(\n",
        "    root='./data', train=True, download=True, transform=transform_train)\n",
        "trainloader = torch.utils.data.DataLoader(\n",
        "    trainset, batch_size=128, shuffle=True, num_workers=2)\n",
        "\n",
        "testset = torchvision.datasets.CIFAR10(\n",
        "    root='./data', train=False, download=True, transform=transform_test)\n",
        "testloader = torch.utils.data.DataLoader(\n",
        "    testset, batch_size=100, shuffle=False, num_workers=2)\n",
        "\n",
        "classes = ('plane', 'car', 'bird', 'cat', 'deer',\n",
        "           'dog', 'frog', 'horse', 'ship', 'truck')\n",
        "\n",
        "net = ResNet18() # 11.2 params\n",
        "#net = ResNet50() # 23.5"
      ],
      "metadata": {
        "colab": {
          "base_uri": "https://localhost:8080/"
        },
        "id": "N_K9-VkFRsiL",
        "outputId": "d6ae1b1b-7744-4f3e-89b4-94564d7b5bc4"
      },
      "execution_count": 5,
      "outputs": [
        {
          "output_type": "stream",
          "name": "stdout",
          "text": [
            "==> Preparing data..\n",
            "Files already downloaded and verified\n",
            "Files already downloaded and verified\n"
          ]
        }
      ]
    },
    {
      "cell_type": "code",
      "source": [
        "from torchsummary import summary\n",
        "import humanize\n",
        "\n",
        "def count_parameters(model):\n",
        "    return sum(p.numel() for p in model.parameters() if p.requires_grad)\n",
        "\n",
        "print(\"Number of parameters\", humanize.intword(count_parameters(net)))"
      ],
      "metadata": {
        "colab": {
          "base_uri": "https://localhost:8080/"
        },
        "id": "kgQPV3H4ZTxA",
        "outputId": "698ba0c4-dfba-4c2d-e9d0-01e6391ff6f1"
      },
      "execution_count": 6,
      "outputs": [
        {
          "output_type": "stream",
          "name": "stdout",
          "text": [
            "Number of parameters 11.2 million\n"
          ]
        }
      ]
    },
    {
      "cell_type": "code",
      "execution_count": 7,
      "outputs": [
        {
          "output_type": "stream",
          "name": "stdout",
          "text": [
            "The total number of parameters is  11173962\n"
          ]
        }
      ],
      "source": [
        "def get_total_params(model):\n",
        "    return sum(p.numel() for p in model.parameters() if p.requires_grad)\n",
        "\n",
        "print(\"The total number of parameters is \", get_total_params(net))"
      ],
      "metadata": {
        "colab": {
          "base_uri": "https://localhost:8080/"
        },
        "id": "RRxGZ1KtXzUf",
        "outputId": "719e2628-9e23-4a9b-ad69-d0376a85e0e0"
      }
    },
    {
      "cell_type": "code",
      "execution_count": 8,
      "outputs": [],
      "source": [
        "def get_pruned_parameters_countget_pruned_parameters_count(pruned_model):\n",
        "    params = 0\n",
        "    for param in pruned_model.parameters():\n",
        "        if param is not None:\n",
        "            params += torch.nonzero(param).size(0)\n",
        "    return params"
      ],
      "metadata": {
        "id": "htKbN2cYXzUh"
      }
    },
    {
      "cell_type": "code",
      "execution_count": 9,
      "outputs": [
        {
          "output_type": "stream",
          "name": "stdout",
          "text": [
            "Pruning some of the model parameters\n",
            "The total number of parameters before the pruning is  11173962\n",
            "The total number of parameters after the pruning is  4574455\n"
          ]
        }
      ],
      "source": [
        "print(\"Pruning some of the model parameters\")\n",
        "\n",
        "print(\"The total number of parameters before the pruning is \",\n",
        "      get_total_params(net))\n",
        "\n",
        "print(\"The total number of parameters after the pruning is \",\n",
        "      get_pruned_parameters_countget_pruned_parameters_count(net))"
      ],
      "metadata": {
        "colab": {
          "base_uri": "https://localhost:8080/"
        },
        "id": "IseBUFvnXzUj",
        "outputId": "5d30e644-60eb-4e81-baf9-65e92b1554f1"
      }
    },
    {
      "cell_type": "code",
      "source": [
        "net = net.to(device)\n",
        "if device == 'cuda':\n",
        "    net = torch.nn.DataParallel(net)\n",
        "    cudnn.benchmark = True\n",
        "\n",
        "lr = 0.1\n",
        "lr = 0.01\n",
        "criterion = nn.CrossEntropyLoss()\n",
        "\n",
        "#optimizer = optim.Adam(net.parameters(), lr=lr, weight_decay=5e-4)\n",
        "optimizer = optim.SGD(net.parameters(), lr=lr,\n",
        "                       momentum=0.9, weight_decay=5e-4)\n",
        "scheduler = torch.optim.lr_scheduler.CosineAnnealingLR(optimizer, T_max=200)\n",
        "\n",
        "save_loss = {'train':[], 'test':[]}\n",
        "save_acc = {'train':[], 'test':[]}"
      ],
      "metadata": {
        "id": "a3kWtBzVWg3Y"
      },
      "execution_count": 10,
      "outputs": []
    },
    {
      "cell_type": "code",
      "source": [
        "# Training\n",
        "def train(epoch):\n",
        "    print('\\nEpoch: %d' % epoch)\n",
        "    net.train()\n",
        "    train_loss = 0\n",
        "    correct = 0\n",
        "    total = 0\n",
        "    for batch_idx, (inputs, targets) in enumerate(trainloader):\n",
        "        inputs, targets = inputs.to(device), targets.to(device)\n",
        "        optimizer.zero_grad()\n",
        "        outputs = net(inputs)\n",
        "        loss = criterion(outputs, targets)\n",
        "        loss.backward()\n",
        "        optimizer.step()\n",
        "\n",
        "        train_loss += loss.item()\n",
        "        _, predicted = outputs.max(1)\n",
        "        total += targets.size(0)\n",
        "        correct += predicted.eq(targets).sum().item()\n",
        "\n",
        "        # print(f\"Epoch:{epoch} -- Phase:Train -- Loss:{save_loss[phase][-1]:.2f} -- Acc:{save_acc[phase][-1]*100:.2f}\")\n",
        "\n",
        "        progress_bar(batch_idx, len(trainloader), 'Loss: %.3f | Acc: %.3f%% (%d/%d)'\n",
        "                     % (train_loss/(batch_idx+1), 100.*correct/total, correct, total))\n"
      ],
      "metadata": {
        "id": "CIzJObnOWz2d"
      },
      "execution_count": 11,
      "outputs": []
    },
    {
      "cell_type": "code",
      "source": [
        "def test(epoch):\n",
        "    global best_acc\n",
        "    net.eval()\n",
        "    test_loss = 0\n",
        "    correct = 0\n",
        "    total = 0\n",
        "    with torch.no_grad():\n",
        "        for batch_idx, (inputs, targets) in enumerate(testloader):\n",
        "            inputs, targets = inputs.to(device), targets.to(device)\n",
        "            outputs = net(inputs)\n",
        "            loss = criterion(outputs, targets)\n",
        "\n",
        "            test_loss += loss.item()\n",
        "            _, predicted = outputs.max(1)\n",
        "            total += targets.size(0)\n",
        "            correct += predicted.eq(targets).sum().item()\n",
        "\n",
        "            progress_bar(batch_idx, len(testloader), 'Loss: %.3f | Acc: %.3f%% (%d/%d)'\n",
        "                         % (test_loss/(batch_idx+1), 100.*correct/total, correct, total))\n",
        "\n",
        "    # Save checkpoint.\n",
        "    acc = 100.*correct/total\n",
        "    if acc > best_acc:\n",
        "        print('Saving..')\n",
        "        state = {\n",
        "            'net': net.state_dict(),\n",
        "            'acc': acc,\n",
        "            'epoch': epoch,\n",
        "        }\n",
        "        if not os.path.isdir('checkpoint'):\n",
        "            os.mkdir('checkpoint')\n",
        "        torch.save(state, './checkpoint/ckpt.pth')\n",
        "        best_acc = acc\n"
      ],
      "metadata": {
        "id": "t-33JkfpW1Cu"
      },
      "execution_count": 12,
      "outputs": []
    },
    {
      "cell_type": "code",
      "execution_count": 13,
      "outputs": [
        {
          "output_type": "stream",
          "name": "stdout",
          "text": [
            "Using device  cuda\n"
          ]
        }
      ],
      "source": [
        "print(\"Using device \", device)"
      ],
      "metadata": {
        "colab": {
          "base_uri": "https://localhost:8080/"
        },
        "id": "Qyuhb-GrXzUo",
        "outputId": "bebd39c2-81d8-4910-870f-a96797bd3733"
      }
    },
    {
      "cell_type": "code",
      "execution_count": 14,
      "outputs": [
        {
          "output_type": "stream",
          "name": "stdout",
          "text": [
            "4574455\n"
          ]
        }
      ],
      "source": [
        "total_params = get_pruned_parameters_countget_pruned_parameters_count(net)\n",
        "print(total_params)"
      ],
      "metadata": {
        "colab": {
          "base_uri": "https://localhost:8080/"
        },
        "id": "79HcWh5aXzUq",
        "outputId": "da02ce29-ea07-4972-c31d-d60c23cfe0d9"
      }
    },
    {
      "cell_type": "code",
      "source": [
        "for epoch in range(start_epoch, start_epoch+40):\n",
        "    train(epoch)\n",
        "    test(epoch)\n",
        "    scheduler.step()"
      ],
      "metadata": {
        "colab": {
          "base_uri": "https://localhost:8080/"
        },
        "id": "jJcMkrBzW7o7",
        "outputId": "20d0472d-fd59-4d54-c8d3-ea409e922067",
        "pycharm": {
          "is_executing": true
        }
      },
      "execution_count": 15,
      "outputs": [
        {
          "output_type": "stream",
          "name": "stdout",
          "text": [
            "\n",
            "Epoch: 0\n",
            " [======>]  Step: 184ms | Tot: 18s395ms | Loss: 1.753 | Acc: 35.808% (17904/50000)\b\b\b\b 391/391 \n",
            " [======>]  Step: 13ms | Tot: 1s149ms | Loss: 1.250 | Acc: 55.600% (5560/10000)\b\b\b\b 100/100 \n",
            "Saving..\n",
            "\n",
            "Epoch: 1\n",
            " [======>]  Step: 25ms | Tot: 18s79ms | Loss: 1.227 | Acc: 56.264% (28132/50000)\b\b\b\b 391/391 \n",
            " [======>]  Step: 9ms | Tot: 1s210ms | Loss: 1.060 | Acc: 64.290% (6429/10000)\b\b\b\b 100/100 \n",
            "Saving..\n",
            "\n",
            "Epoch: 2\n",
            " [======>]  Step: 31ms | Tot: 17s978ms | Loss: 0.994 | Acc: 65.322% (32661/50000)\b\b\b\b 391/391 \n",
            " [======>]  Step: 10ms | Tot: 1s205ms | Loss: 0.821 | Acc: 71.810% (7181/10000)\b\b\b\b 100/100 \n",
            "Saving..\n",
            "\n",
            "Epoch: 3\n",
            " [======>]  Step: 30ms | Tot: 18s116ms | Loss: 0.865 | Acc: 69.976% (34988/50000)\b\b\b\b 391/391 \n",
            " [======>]  Step: 9ms | Tot: 1s162ms | Loss: 0.805 | Acc: 72.970% (7297/10000)\b\b\b\b 100/100 \n",
            "Saving..\n",
            "\n",
            "Epoch: 4\n",
            " [======>]  Step: 22ms | Tot: 18s166ms | Loss: 0.784 | Acc: 72.672% (36336/50000)\b\b\b\b 391/391 \n",
            " [======>]  Step: 10ms | Tot: 1s178ms | Loss: 0.645 | Acc: 77.740% (7774/10000)\b\b\b\b 100/100 \n",
            "Saving..\n",
            "\n",
            "Epoch: 5\n",
            " [======>]  Step: 28ms | Tot: 18s57ms | Loss: 0.724 | Acc: 74.820% (37410/50000)\b\b\b\b 391/391 \n",
            " [======>]  Step: 11ms | Tot: 1s181ms | Loss: 0.593 | Acc: 79.560% (7956/10000)\b\b\b\b 100/100 \n",
            "Saving..\n",
            "\n",
            "Epoch: 6\n",
            " [======>]  Step: 28ms | Tot: 18s166ms | Loss: 0.677 | Acc: 76.350% (38175/50000)\b\b\b\b 391/391 \n",
            " [======>]  Step: 9ms | Tot: 1s155ms | Loss: 0.591 | Acc: 80.890% (8089/10000)\b\b\b\b 100/100 \n",
            "Saving..\n",
            "\n",
            "Epoch: 7\n",
            " [======>]  Step: 21ms | Tot: 18s433ms | Loss: 0.637 | Acc: 77.890% (38945/50000)\b\b\b\b 391/391 \n",
            " [======>]  Step: 10ms | Tot: 1s193ms | Loss: 0.581 | Acc: 79.840% (7984/10000)\b\b\b\b 100/100 \n",
            "\n",
            "Epoch: 8\n",
            " [======>]  Step: 33ms | Tot: 18s395ms | Loss: 0.605 | Acc: 78.938% (39469/50000)\b\b\b\b 391/391 \n",
            " [======>]  Step: 10ms | Tot: 1s199ms | Loss: 0.643 | Acc: 79.090% (7909/10000)\b\b\b\b 100/100 \n",
            "\n",
            "Epoch: 9\n",
            " [======>]  Step: 20ms | Tot: 18s151ms | Loss: 0.576 | Acc: 79.910% (39955/50000)\b\b\b\b 391/391 \n",
            " [======>]  Step: 12ms | Tot: 1s198ms | Loss: 0.528 | Acc: 81.810% (8181/10000)\b\b\b\b 100/100 \n",
            "Saving..\n",
            "\n",
            "Epoch: 10\n",
            " [======>]  Step: 30ms | Tot: 18s242ms | Loss: 0.550 | Acc: 81.138% (40569/50000)\b\b\b\b 391/391 \n",
            " [======>]  Step: 8ms | Tot: 1s199ms | Loss: 0.445 | Acc: 84.650% (8465/10000)\b\b\b\b 100/100 \n",
            "Saving..\n",
            "\n",
            "Epoch: 11\n",
            " [======>]  Step: 28ms | Tot: 18s312ms | Loss: 0.526 | Acc: 81.736% (40868/50000)\b\b\b\b 391/391 \n",
            " [======>]  Step: 11ms | Tot: 1s203ms | Loss: 0.393 | Acc: 86.540% (8654/10000)\b\b\b\b 100/100 \n",
            "Saving..\n",
            "\n",
            "Epoch: 12\n",
            " [======>]  Step: 31ms | Tot: 18s76ms | Loss: 0.514 | Acc: 82.230% (41115/50000)\b\b\b\b 391/391 \n",
            " [======>]  Step: 10ms | Tot: 1s200ms | Loss: 0.400 | Acc: 86.880% (8688/10000)\b\b\b\b 100/100 \n",
            "Saving..\n",
            "\n",
            "Epoch: 13\n",
            " [======>]  Step: 21ms | Tot: 18s105ms | Loss: 0.492 | Acc: 82.716% (41358/50000)\b\b\b\b 391/391 \n",
            " [======>]  Step: 14ms | Tot: 1s214ms | Loss: 0.483 | Acc: 84.130% (8413/10000)\b\b\b\b 100/100 \n",
            "\n",
            "Epoch: 14\n",
            " [======>]  Step: 31ms | Tot: 18s88ms | Loss: 0.474 | Acc: 83.534% (41767/50000)\b\b\b\b 391/391 \n",
            " [======>]  Step: 10ms | Tot: 1s145ms | Loss: 0.370 | Acc: 86.940% (8694/10000)\b\b\b\b 100/100 \n",
            "Saving..\n",
            "\n",
            "Epoch: 15\n",
            " [======>]  Step: 33ms | Tot: 18s468ms | Loss: 0.461 | Acc: 83.908% (41954/50000)\b\b\b\b 391/391 \n",
            " [======>]  Step: 10ms | Tot: 1s227ms | Loss: 0.397 | Acc: 86.470% (8647/10000)\b\b\b\b 100/100 \n",
            "\n",
            "Epoch: 16\n",
            " [======>]  Step: 32ms | Tot: 18s256ms | Loss: 0.449 | Acc: 84.322% (42161/50000)\b\b\b\b 391/391 \n",
            " [======>]  Step: 8ms | Tot: 1s210ms | Loss: 0.348 | Acc: 88.120% (8812/10000)\b\b\b\b 100/100 \n",
            "Saving..\n",
            "\n",
            "Epoch: 17\n",
            " [======>]  Step: 36ms | Tot: 18s378ms | Loss: 0.439 | Acc: 84.762% (42381/50000)\b\b\b\b 391/391 \n",
            " [======>]  Step: 12ms | Tot: 1s191ms | Loss: 0.408 | Acc: 86.460% (8646/10000)\b\b\b\b 100/100 \n",
            "\n",
            "Epoch: 18\n",
            " [======>]  Step: 22ms | Tot: 18s62ms | Loss: 0.422 | Acc: 85.246% (42623/50000)\b\b\b\b 391/391 \n",
            " [======>]  Step: 9ms | Tot: 1s163ms | Loss: 0.341 | Acc: 88.320% (8832/10000)\b\b\b\b 100/100 \n",
            "Saving..\n",
            "\n",
            "Epoch: 19\n",
            " [======>]  Step: 21ms | Tot: 18s382ms | Loss: 0.413 | Acc: 85.578% (42789/50000)\b\b\b\b 391/391 \n",
            " [======>]  Step: 11ms | Tot: 1s286ms | Loss: 0.458 | Acc: 84.610% (8461/10000)\b\b\b\b 100/100 \n",
            "\n",
            "Epoch: 20\n",
            " [======>]  Step: 28ms | Tot: 18s307ms | Loss: 0.398 | Acc: 86.136% (43068/50000)\b\b\b\b 391/391 \n",
            " [======>]  Step: 10ms | Tot: 1s244ms | Loss: 0.445 | Acc: 85.220% (8522/10000)\b\b\b\b 100/100 \n",
            "\n",
            "Epoch: 21\n",
            " [======>]  Step: 20ms | Tot: 18s156ms | Loss: 0.393 | Acc: 86.250% (43125/50000)\b\b\b\b 391/391 \n",
            " [======>]  Step: 9ms | Tot: 1s176ms | Loss: 0.376 | Acc: 87.000% (8700/10000)\b\b\b\b 100/100 \n",
            "\n",
            "Epoch: 22\n",
            " [======>]  Step: 29ms | Tot: 18s374ms | Loss: 0.385 | Acc: 86.540% (43270/50000)\b\b\b\b 391/391 \n",
            " [======>]  Step: 12ms | Tot: 1s249ms | Loss: 0.336 | Acc: 88.670% (8867/10000)\b\b\b\b 100/100 \n",
            "Saving..\n",
            "\n",
            "Epoch: 23\n",
            " [======>]  Step: 21ms | Tot: 18s193ms | Loss: 0.374 | Acc: 86.956% (43478/50000)\b\b\b\b 391/391 \n",
            " [======>]  Step: 15ms | Tot: 1s216ms | Loss: 0.336 | Acc: 88.200% (8820/10000)\b\b\b\b 100/100 \n",
            "\n",
            "Epoch: 24\n",
            " [======>]  Step: 32ms | Tot: 18s204ms | Loss: 0.367 | Acc: 87.136% (43568/50000)\b\b\b\b 391/391 \n",
            " [======>]  Step: 11ms | Tot: 1s277ms | Loss: 0.322 | Acc: 89.090% (8909/10000)\b\b\b\b 100/100 \n",
            "Saving..\n",
            "\n",
            "Epoch: 25\n",
            " [======>]  Step: 23ms | Tot: 18s450ms | Loss: 0.353 | Acc: 87.632% (43816/50000)\b\b\b\b 391/391 \n",
            " [======>]  Step: 10ms | Tot: 1s223ms | Loss: 0.295 | Acc: 89.790% (8979/10000)\b\b\b\b 100/100 \n",
            "Saving..\n",
            "\n",
            "Epoch: 26\n",
            " [======>]  Step: 32ms | Tot: 18s162ms | Loss: 0.350 | Acc: 87.828% (43914/50000)\b\b\b\b 391/391 \n",
            " [======>]  Step: 10ms | Tot: 1s182ms | Loss: 0.309 | Acc: 89.700% (8970/10000)\b\b\b\b 100/100 \n",
            "\n",
            "Epoch: 27\n",
            " [======>]  Step: 41ms | Tot: 18s318ms | Loss: 0.345 | Acc: 88.052% (44026/50000)\b\b\b\b 391/391 \n",
            " [======>]  Step: 10ms | Tot: 1s225ms | Loss: 0.282 | Acc: 90.140% (9014/10000)\b\b\b\b 100/100 \n",
            "Saving..\n",
            "\n",
            "Epoch: 28\n",
            " [======>]  Step: 20ms | Tot: 18s300ms | Loss: 0.337 | Acc: 88.116% (44058/50000)\b\b\b\b 391/391 \n",
            " [======>]  Step: 11ms | Tot: 1s170ms | Loss: 0.321 | Acc: 89.330% (8933/10000)\b\b\b\b 100/100 \n",
            "\n",
            "Epoch: 29\n",
            " [======>]  Step: 22ms | Tot: 18s744ms | Loss: 0.329 | Acc: 88.640% (44320/50000)\b\b\b\b 391/391 \n",
            " [======>]  Step: 10ms | Tot: 1s175ms | Loss: 0.298 | Acc: 89.840% (8984/10000)\b\b\b\b 100/100 \n",
            "\n",
            "Epoch: 30\n",
            " [======>]  Step: 19ms | Tot: 18s265ms | Loss: 0.319 | Acc: 88.806% (44403/50000)\b\b\b\b 391/391 \n",
            " [======>]  Step: 10ms | Tot: 1s212ms | Loss: 0.322 | Acc: 89.560% (8956/10000)\b\b\b\b 100/100 \n",
            "\n",
            "Epoch: 31\n",
            " [======>]  Step: 31ms | Tot: 18s291ms | Loss: 0.313 | Acc: 89.098% (44549/50000)\b\b\b\b 391/391 \n",
            " [======>]  Step: 11ms | Tot: 1s223ms | Loss: 0.291 | Acc: 90.330% (9033/10000)\b\b\b\b 100/100 \n",
            "Saving..\n",
            "\n",
            "Epoch: 32\n",
            " [======>]  Step: 30ms | Tot: 18s500ms | Loss: 0.311 | Acc: 89.116% (44558/50000)\b\b\b\b 391/391 \n",
            " [======>]  Step: 11ms | Tot: 1s227ms | Loss: 0.299 | Acc: 90.130% (9013/10000)\b\b\b\b 100/100 \n",
            "\n",
            "Epoch: 33\n",
            " [======>]  Step: 20ms | Tot: 18s317ms | Loss: 0.308 | Acc: 89.056% (44528/50000)\b\b\b\b 391/391 \n",
            " [======>]  Step: 10ms | Tot: 1s185ms | Loss: 0.293 | Acc: 90.500% (9050/10000)\b\b\b\b 100/100 \n",
            "Saving..\n",
            "\n",
            "Epoch: 34\n",
            " [======>]  Step: 19ms | Tot: 18s193ms | Loss: 0.301 | Acc: 89.576% (44788/50000)\b\b\b\b 391/391 \n",
            " [======>]  Step: 10ms | Tot: 1s161ms | Loss: 0.290 | Acc: 90.520% (9052/10000)\b\b\b\b 100/100 \n",
            "Saving..\n",
            "\n",
            "Epoch: 35\n",
            " [======>]  Step: 32ms | Tot: 18s387ms | Loss: 0.293 | Acc: 89.654% (44827/50000)\b\b\b\b 391/391 \n",
            " [======>]  Step: 14ms | Tot: 1s214ms | Loss: 0.280 | Acc: 90.890% (9089/10000)\b\b\b\b 100/100 \n",
            "Saving..\n",
            "\n",
            "Epoch: 36\n",
            " [======>]  Step: 20ms | Tot: 18s123ms | Loss: 0.299 | Acc: 89.420% (44710/50000)\b\b\b\b 391/391 \n",
            " [======>]  Step: 10ms | Tot: 1s175ms | Loss: 0.266 | Acc: 91.130% (9113/10000)\b\b\b\b 100/100 \n",
            "Saving..\n",
            "\n",
            "Epoch: 37\n",
            " [======>]  Step: 23ms | Tot: 18s69ms | Loss: 0.285 | Acc: 90.028% (45014/50000)\b\b\b\b 391/391 \n",
            " [======>]  Step: 12ms | Tot: 1s143ms | Loss: 0.269 | Acc: 91.060% (9106/10000)\b\b\b\b 100/100 \n",
            "\n",
            "Epoch: 38\n",
            " [======>]  Step: 28ms | Tot: 18s329ms | Loss: 0.279 | Acc: 90.056% (45028/50000)\b\b\b\b 391/391 \n",
            " [======>]  Step: 17ms | Tot: 1s252ms | Loss: 0.292 | Acc: 90.790% (9079/10000)\b\b\b\b 100/100 \n",
            "\n",
            "Epoch: 39\n",
            " [======>]  Step: 20ms | Tot: 18s449ms | Loss: 0.282 | Acc: 89.994% (44997/50000)\b\b\b\b 391/391 \n",
            " [======>]  Step: 10ms | Tot: 1s198ms | Loss: 0.268 | Acc: 91.300% (9130/10000)\b\b\b\b 100/100 \n",
            "Saving..\n"
          ]
        }
      ]
    },
    {
      "cell_type": "code",
      "execution_count": 16,
      "outputs": [
        {
          "output_type": "stream",
          "name": "stdout",
          "text": [
            "AFTER traiing: The total number of parameters after the pruning is  11173962\n"
          ]
        }
      ],
      "source": [
        "print(\"AFTER traiing: The total number of parameters after the pruning is \",\n",
        "      get_pruned_parameters_countget_pruned_parameters_count(net))"
      ],
      "metadata": {
        "colab": {
          "base_uri": "https://localhost:8080/"
        },
        "id": "8F9l3iSKXzUs",
        "outputId": "dff14e51-98a2-44a3-d322-2137b24384a7"
      }
    }
  ]
}