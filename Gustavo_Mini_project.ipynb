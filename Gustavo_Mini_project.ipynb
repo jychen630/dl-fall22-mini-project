{
  "cells": [
    {
      "cell_type": "markdown",
      "metadata": {
        "id": "view-in-github",
        "colab_type": "text"
      },
      "source": [
        "<a href=\"https://colab.research.google.com/github/jychen630/dl-fall22-mini-project/blob/main/Gustavo_Mini_project.ipynb\" target=\"_parent\"><img src=\"https://colab.research.google.com/assets/colab-badge.svg\" alt=\"Open In Colab\"/></a>"
      ]
    },
    {
      "cell_type": "code",
      "execution_count": 144,
      "metadata": {
        "colab": {
          "base_uri": "https://localhost:8080/"
        },
        "id": "EM4tmSSp0cPb",
        "outputId": "2f8b7307-616e-447b-d592-691b95cc65e0"
      },
      "outputs": [
        {
          "output_type": "stream",
          "name": "stdout",
          "text": [
            "Drive already mounted at /content/drive; to attempt to forcibly remount, call drive.mount(\"/content/drive\", force_remount=True).\n"
          ]
        }
      ],
      "source": [
        "from google.colab import drive\n",
        "drive.mount('/content/drive')"
      ]
    },
    {
      "cell_type": "code",
      "execution_count": 145,
      "metadata": {
        "id": "SsNWB9qNNKka"
      },
      "outputs": [],
      "source": [
        "#!pip install -e git+https://github.com/marcoancona/TorchPruner.git#egg=torchpruner"
      ]
    },
    {
      "cell_type": "code",
      "execution_count": 146,
      "metadata": {
        "id": "GXI-w576XzT_"
      },
      "outputs": [],
      "source": [
        "import ssl\n",
        "def set_up_ssl():\n",
        "    try:\n",
        "        _create_unverified_https_context = ssl._create_unverified_context\n",
        "    except AttributeError:\n",
        "        pass\n",
        "    else:\n",
        "        ssl._create_default_https_context = _create_unverified_https_context\n",
        "\n",
        "set_up_ssl()"
      ]
    },
    {
      "cell_type": "code",
      "execution_count": 147,
      "metadata": {
        "id": "wTLc4fVcQ857"
      },
      "outputs": [],
      "source": [
        "import torch\n",
        "import torch.nn as nn\n",
        "import torch.optim as optim\n",
        "import torch.nn.init as init\n",
        "import torch.nn.functional as F\n",
        "import torch.backends.cudnn as cudnn\n",
        "import torch.nn.utils.prune as prune\n",
        "from torch.utils.data import random_split\n",
        "\n",
        "import torchvision\n",
        "import torchvision.transforms as transforms\n",
        "\n",
        "from torchsummary import summary\n",
        "\n",
        "import os\n",
        "import sys\n",
        "import time\n",
        "import math\n",
        "import argparse\n",
        "import humanize\n",
        "import numpy as np\n",
        "import matplotlib.pyplot as plt"
      ]
    },
    {
      "cell_type": "code",
      "execution_count": 148,
      "metadata": {
        "id": "jQeGvfSCRM4i"
      },
      "outputs": [],
      "source": [
        "term_width = 5\n",
        "TOTAL_BAR_LENGTH = 7\n",
        "last_time = time.time()\n",
        "begin_time = last_time\n",
        "def progress_bar(current, total, msg=None):\n",
        "    global last_time, begin_time\n",
        "    if current == 0:\n",
        "        begin_time = time.time()  # Reset for new bar.\n",
        "\n",
        "    cur_len = int(TOTAL_BAR_LENGTH*current/total)\n",
        "    rest_len = int(TOTAL_BAR_LENGTH - cur_len) - 1\n",
        "\n",
        "    sys.stdout.write(' [')\n",
        "    for i in range(cur_len):\n",
        "        sys.stdout.write('=')\n",
        "    sys.stdout.write('>')\n",
        "    for i in range(rest_len):\n",
        "        sys.stdout.write('.')\n",
        "    sys.stdout.write(']')\n",
        "\n",
        "    cur_time = time.time()\n",
        "    step_time = cur_time - last_time\n",
        "    last_time = cur_time\n",
        "    tot_time = cur_time - begin_time\n",
        "\n",
        "    L = []\n",
        "    L.append('  Step: %s' % format_time(step_time))\n",
        "    L.append(' | Tot: %s' % format_time(tot_time))\n",
        "    if msg:\n",
        "        L.append(' | ' + msg)\n",
        "\n",
        "    msg = ''.join(L)\n",
        "    sys.stdout.write(msg)\n",
        "    for i in range(term_width-int(TOTAL_BAR_LENGTH)-len(msg)-3):\n",
        "        sys.stdout.write(' ')\n",
        "\n",
        "    # Go back to the center of the bar.\n",
        "    for i in range(term_width-int(TOTAL_BAR_LENGTH/2)+2):\n",
        "        sys.stdout.write('\\b')\n",
        "    sys.stdout.write(' %d/%d ' % (current+1, total))\n",
        "\n",
        "    if current < total-1:\n",
        "        sys.stdout.write('\\r')\n",
        "    else:\n",
        "        sys.stdout.write('\\n')\n",
        "    sys.stdout.flush()\n",
        "\n",
        "def format_time(seconds):\n",
        "    days = int(seconds / 3600/24)\n",
        "    seconds = seconds - days*3600*24\n",
        "    hours = int(seconds / 3600)\n",
        "    seconds = seconds - hours*3600\n",
        "    minutes = int(seconds / 60)\n",
        "    seconds = seconds - minutes*60\n",
        "    secondsf = int(seconds)\n",
        "    seconds = seconds - secondsf\n",
        "    millis = int(seconds*1000)\n",
        "\n",
        "    f = ''\n",
        "    i = 1\n",
        "    if days > 0:\n",
        "        f += str(days) + 'D'\n",
        "        i += 1\n",
        "    if hours > 0 and i <= 2:\n",
        "        f += str(hours) + 'h'\n",
        "        i += 1\n",
        "    if minutes > 0 and i <= 2:\n",
        "        f += str(minutes) + 'm'\n",
        "        i += 1\n",
        "    if secondsf > 0 and i <= 2:\n",
        "        f += str(secondsf) + 's'\n",
        "        i += 1\n",
        "    if millis > 0 and i <= 2:\n",
        "        f += str(millis) + 'ms'\n",
        "        i += 1\n",
        "    if f == '':\n",
        "        f = '0ms'\n",
        "    return f"
      ]
    },
    {
      "cell_type": "code",
      "execution_count": 149,
      "metadata": {
        "id": "wTCFIHn0XzUL"
      },
      "outputs": [],
      "source": [
        "'''ResNet in PyTorch.\n",
        "For Pre-activation ResNet, see 'preact_resnet.py'.\n",
        "Reference:\n",
        "[1] Kaiming He, Xiangyu Zhang, Shaoqing Ren, Jian Sun\n",
        "    Deep Residual Learning for Image Recognition. arXiv:1512.03385\n",
        "'''\n",
        "\n",
        "\n",
        "class BasicBlock(nn.Module):\n",
        "    expansion = 1\n",
        "\n",
        "    def __init__(self, in_planes, planes, stride=1):\n",
        "        super(BasicBlock, self).__init__()\n",
        "        self.conv1 = nn.Conv2d(\n",
        "            in_planes, planes, kernel_size=3, stride=stride, padding=1, bias=False)\n",
        "        # pruning model parameters in the first convolution layer\n",
        "\n",
        "        # prune.random_unstructured(self.conv1, name='weight', amount=0.6)\n",
        "        # prune.remove(self.conv1, 'weight')\n",
        "\n",
        "        self.bn1 = nn.BatchNorm2d(planes)\n",
        "        self.conv2 = nn.Conv2d(planes, planes, kernel_size=3,\n",
        "                               stride=1, padding=1, bias=False)\n",
        "        # pruning model parameters in the second convolution layer\n",
        "\n",
        "        # prune.random_unstructured(self.conv2, name='weight', amount=0.6)\n",
        "        # prune.remove(self.conv2, 'weight')\n",
        "\n",
        "        self.bn2 = nn.BatchNorm2d(planes)\n",
        "        self.shortcut = nn.Sequential()\n",
        "        if stride != 1 or in_planes != self.expansion*planes:\n",
        "            self.shortcut = nn.Sequential(\n",
        "                nn.Conv2d(in_planes, self.expansion*planes,\n",
        "                          kernel_size=1, stride=stride, bias=False),\n",
        "                nn.BatchNorm2d(self.expansion*planes)\n",
        "            )\n",
        "\n",
        "    def forward(self, x):\n",
        "        out = F.relu(self.bn1(self.conv1(x)))\n",
        "        out = self.bn2(self.conv2(out))\n",
        "        out += self.shortcut(x)\n",
        "        out = F.relu(out)\n",
        "        return out\n",
        "\n",
        "\n",
        "class Bottleneck(nn.Module):\n",
        "    expansion = 4\n",
        "\n",
        "    def __init__(self, in_planes, planes, stride=1):\n",
        "        super(Bottleneck, self).__init__()\n",
        "        self.conv1 = nn.Conv2d(in_planes, planes, kernel_size=1, bias=False)\n",
        "\n",
        "        # prune.random_unstructured(self.conv1, name='weight', amount=0.5)\n",
        "        # prune.remove(self.conv1, 'weight')\n",
        "\n",
        "        self.bn1 = nn.BatchNorm2d(planes)\n",
        "        self.conv2 = nn.Conv2d(planes, planes, kernel_size=3,\n",
        "                               stride=stride, padding=1, bias=False)\n",
        "        \n",
        "        # prune.random_unstructured(self.conv2, name='weight', amount=0.5)\n",
        "        # prune.remove(self.conv2, 'weight')\n",
        "\n",
        "        self.bn2 = nn.BatchNorm2d(planes)\n",
        "        self.conv3 = nn.Conv2d(planes, self.expansion *\n",
        "                               planes, kernel_size=1, bias=False)\n",
        "        \n",
        "        # prune.random_unstructured(self.conv3, name='weight', amount=0.5)\n",
        "        # prune.remove(self.conv3, 'weight')\n",
        "\n",
        "        self.bn3 = nn.BatchNorm2d(self.expansion*planes)\n",
        "\n",
        "        self.shortcut = nn.Sequential()\n",
        "        if stride != 1 or in_planes != self.expansion*planes:\n",
        "            self.shortcut = nn.Sequential(\n",
        "                nn.Conv2d(in_planes, self.expansion*planes,\n",
        "                          kernel_size=1, stride=stride, bias=False),\n",
        "                nn.BatchNorm2d(self.expansion*planes)\n",
        "            )\n",
        "\n",
        "    def forward(self, x):\n",
        "        out = F.relu(self.bn1(self.conv1(x)))\n",
        "        out = F.relu(self.bn2(self.conv2(out)))\n",
        "        #out = self.bn3(self.conv3(out))\n",
        "        out += self.shortcut(x)\n",
        "        out = F.relu(out)\n",
        "        return out\n",
        "\n",
        "\n",
        "class ResNet(nn.Module):\n",
        "    def __init__(self, block, num_blocks, num_classes=10):\n",
        "        super(ResNet, self).__init__()\n",
        "        self.in_planes = 64\n",
        "\n",
        "        self.conv1 = nn.Conv2d(3, 64, kernel_size=3,\n",
        "                               stride=1, padding=1, bias=False)\n",
        "        \n",
        "        # prune.random_unstructured(self.conv1, name='weight', amount=0.5)\n",
        "        # prune.remove(self.conv1, 'weight')\n",
        "\n",
        "        self.bn1 = nn.BatchNorm2d(64)\n",
        "        self.layer1 = self._make_layer(block, 64, num_blocks[0], stride=1)\n",
        "        self.layer2 = self._make_layer(block, 128, num_blocks[1], stride=2)\n",
        "        self.layer3 = self._make_layer(block, 256, num_blocks[2], stride=4)\n",
        "        # removing the 4th layer to reduce the size of the network\n",
        "        #self.layer4 = self._make_layer(block, 512, num_blocks[3], stride=2)\n",
        "        self.linear = nn.Linear(256*block.expansion, num_classes)\n",
        "\n",
        "        # prune.random_unstructured(self.linear, name='weight', amount=0.5)\n",
        "        # prune.remove(self.linear, 'weight')\n",
        "\n",
        "    def _make_layer(self, block, planes, num_blocks, stride):\n",
        "        strides = [stride] + [1]*(num_blocks-1)\n",
        "        layers = []\n",
        "        for stride in strides:\n",
        "            layers.append(block(self.in_planes, planes, stride))\n",
        "            self.in_planes = planes * block.expansion\n",
        "        return nn.Sequential(*layers)\n",
        "\n",
        "    def forward(self, x):\n",
        "        out = F.relu(self.bn1(self.conv1(x)))\n",
        "        out = self.layer1(out)\n",
        "        out = self.layer2(out)\n",
        "        out = self.layer3(out)\n",
        "        # removing the 4th layer to reduce the size of the network\n",
        "        #out = self.layer4(out)\n",
        "        out = F.avg_pool2d(out, 4)\n",
        "        out = out.view(out.size(0), -1)\n",
        "        out = self.linear(out)\n",
        "        return out\n",
        "\n",
        "\n",
        "def ResNet18():\n",
        "    return ResNet(BasicBlock, [2, 2, 2, 2])\n",
        "\n",
        "\n",
        "def ResNet34():\n",
        "    return ResNet(BasicBlock, [3, 4, 6, 3])\n",
        "\n",
        "\n",
        "def ResNet50():\n",
        "    return ResNet(Bottleneck, [3, 4, 6, 3])\n",
        "\n",
        "\n",
        "def ResNet101():\n",
        "    return ResNet(Bottleneck, [3, 4, 23, 3])\n",
        "\n",
        "\n",
        "def ResNet152():\n",
        "    return ResNet(Bottleneck, [3, 8, 36, 3])\n",
        "\n",
        "\n",
        "#seems not used\n",
        "# def test():\n",
        "#     net = ResNet18()\n",
        "#     y = net(torch.randn(1, 3, 32, 32))\n",
        "#     print(y.size())\n"
      ]
    },
    {
      "cell_type": "code",
      "execution_count": 150,
      "metadata": {
        "colab": {
          "base_uri": "https://localhost:8080/"
        },
        "id": "N_K9-VkFRsiL",
        "outputId": "1a7bff1d-c624-4b8e-d1d0-4ddcbfbdccf8"
      },
      "outputs": [
        {
          "output_type": "stream",
          "name": "stdout",
          "text": [
            "==> Preparing data..\n",
            "Files already downloaded and verified\n",
            "Files already downloaded and verified\n",
            "The length of a train set is  45000\n",
            "The length of a validation set is  5000\n",
            "The length of a test set is  10000\n"
          ]
        }
      ],
      "source": [
        "\n",
        "LOCAL_M1 = False\n",
        "\n",
        "if LOCAL_M1:\n",
        "    device = 'cuda' if torch.cuda.is_available() else 'mps'\n",
        "else:\n",
        "    device = 'cuda' if torch.cuda.is_available() else 'cpu'\n",
        "\n",
        "best_acc = 0  # best test accuracy\n",
        "start_epoch = 0  # start from epoch 0 or last checkpoint epoch\n",
        "\n",
        "# Data\n",
        "print('==> Preparing data..')\n",
        "transform_train = transforms.Compose([\n",
        "    transforms.RandomHorizontalFlip(),\n",
        "    transforms.RandomCrop(32, padding=4),\n",
        "    transforms.AutoAugment(transforms.AutoAugmentPolicy.CIFAR10),\n",
        "    transforms.ToTensor(),\n",
        "    transforms.Normalize((0.4914, 0.4822, 0.4465), (0.2023, 0.1994, 0.2010)),\n",
        "    #transforms.RandomErasing()\n",
        "  \n",
        "])\n",
        "\n",
        "transform_test = transforms.Compose([\n",
        "    transforms.ToTensor(),\n",
        "    transforms.Normalize((0.4914, 0.4822, 0.4465), (0.2023, 0.1994, 0.2010)),\n",
        "])\n",
        "\n",
        "# constructing validation set\n",
        "\n",
        "trainset = torchvision.datasets.CIFAR10(\n",
        "    root='./data', train=True, download=True, transform=transform_train)\n",
        "\n",
        "testset = torchvision.datasets.CIFAR10(\n",
        "    root='./data', train=False, download=True, transform=transform_test)\n",
        "\n",
        "torch.manual_seed(43)\n",
        "val_size = 5000\n",
        "train_size = len(trainset) - val_size\n",
        "\n",
        "train_ds, val_ds = random_split(trainset, [train_size, val_size])\n",
        "len(train_ds), len(val_ds)\n",
        "print(\"The length of a train set is \", len(train_ds))\n",
        "print(\"The length of a validation set is \", len(val_ds))\n",
        "print(\"The length of a test set is \", len(testset))\n",
        "\n",
        "trainloader = torch.utils.data.DataLoader(\n",
        "    train_ds, batch_size=128, shuffle=True, num_workers=2)\n",
        "\n",
        "val_loader = torch.utils.data.DataLoader(\n",
        "    val_ds, batch_size=128, shuffle=True, num_workers=2)\n",
        "\n",
        "testloader = torch.utils.data.DataLoader(\n",
        "    testset, batch_size=100, shuffle=False, num_workers=2)\n",
        "\n",
        "classes = ('plane', 'car', 'bird', 'cat', 'deer',\n",
        "           'dog', 'frog', 'horse', 'ship', 'truck')\n",
        "\n",
        "net = ResNet18() # 11.2 params\n",
        "#net.fc = nn.Identity()\n",
        "#net = ResNet50() # 23.5"
      ]
    },
    {
      "cell_type": "code",
      "execution_count": 151,
      "metadata": {
        "colab": {
          "base_uri": "https://localhost:8080/"
        },
        "id": "KbzjCm0gOElC",
        "outputId": "7abfda57-f519-4fbe-fdc7-71d18b3da2dd"
      },
      "outputs": [
        {
          "output_type": "stream",
          "name": "stdout",
          "text": [
            "6\n",
            "ResNet(\n",
            "  (conv1): Conv2d(3, 64, kernel_size=(3, 3), stride=(1, 1), padding=(1, 1), bias=False)\n",
            "  (bn1): BatchNorm2d(64, eps=1e-05, momentum=0.1, affine=True, track_running_stats=True)\n",
            "  (layer1): Sequential(\n",
            "    (0): BasicBlock(\n",
            "      (conv1): Conv2d(64, 64, kernel_size=(3, 3), stride=(1, 1), padding=(1, 1), bias=False)\n",
            "      (bn1): BatchNorm2d(64, eps=1e-05, momentum=0.1, affine=True, track_running_stats=True)\n",
            "      (conv2): Conv2d(64, 64, kernel_size=(3, 3), stride=(1, 1), padding=(1, 1), bias=False)\n",
            "      (bn2): BatchNorm2d(64, eps=1e-05, momentum=0.1, affine=True, track_running_stats=True)\n",
            "      (shortcut): Sequential()\n",
            "    )\n",
            "    (1): BasicBlock(\n",
            "      (conv1): Conv2d(64, 64, kernel_size=(3, 3), stride=(1, 1), padding=(1, 1), bias=False)\n",
            "      (bn1): BatchNorm2d(64, eps=1e-05, momentum=0.1, affine=True, track_running_stats=True)\n",
            "      (conv2): Conv2d(64, 64, kernel_size=(3, 3), stride=(1, 1), padding=(1, 1), bias=False)\n",
            "      (bn2): BatchNorm2d(64, eps=1e-05, momentum=0.1, affine=True, track_running_stats=True)\n",
            "      (shortcut): Sequential()\n",
            "    )\n",
            "  )\n",
            "  (layer2): Sequential(\n",
            "    (0): BasicBlock(\n",
            "      (conv1): Conv2d(64, 128, kernel_size=(3, 3), stride=(2, 2), padding=(1, 1), bias=False)\n",
            "      (bn1): BatchNorm2d(128, eps=1e-05, momentum=0.1, affine=True, track_running_stats=True)\n",
            "      (conv2): Conv2d(128, 128, kernel_size=(3, 3), stride=(1, 1), padding=(1, 1), bias=False)\n",
            "      (bn2): BatchNorm2d(128, eps=1e-05, momentum=0.1, affine=True, track_running_stats=True)\n",
            "      (shortcut): Sequential(\n",
            "        (0): Conv2d(64, 128, kernel_size=(1, 1), stride=(2, 2), bias=False)\n",
            "        (1): BatchNorm2d(128, eps=1e-05, momentum=0.1, affine=True, track_running_stats=True)\n",
            "      )\n",
            "    )\n",
            "    (1): BasicBlock(\n",
            "      (conv1): Conv2d(128, 128, kernel_size=(3, 3), stride=(1, 1), padding=(1, 1), bias=False)\n",
            "      (bn1): BatchNorm2d(128, eps=1e-05, momentum=0.1, affine=True, track_running_stats=True)\n",
            "      (conv2): Conv2d(128, 128, kernel_size=(3, 3), stride=(1, 1), padding=(1, 1), bias=False)\n",
            "      (bn2): BatchNorm2d(128, eps=1e-05, momentum=0.1, affine=True, track_running_stats=True)\n",
            "      (shortcut): Sequential()\n",
            "    )\n",
            "  )\n",
            "  (layer3): Sequential(\n",
            "    (0): BasicBlock(\n",
            "      (conv1): Conv2d(128, 256, kernel_size=(3, 3), stride=(4, 4), padding=(1, 1), bias=False)\n",
            "      (bn1): BatchNorm2d(256, eps=1e-05, momentum=0.1, affine=True, track_running_stats=True)\n",
            "      (conv2): Conv2d(256, 256, kernel_size=(3, 3), stride=(1, 1), padding=(1, 1), bias=False)\n",
            "      (bn2): BatchNorm2d(256, eps=1e-05, momentum=0.1, affine=True, track_running_stats=True)\n",
            "      (shortcut): Sequential(\n",
            "        (0): Conv2d(128, 256, kernel_size=(1, 1), stride=(4, 4), bias=False)\n",
            "        (1): BatchNorm2d(256, eps=1e-05, momentum=0.1, affine=True, track_running_stats=True)\n",
            "      )\n",
            "    )\n",
            "    (1): BasicBlock(\n",
            "      (conv1): Conv2d(256, 256, kernel_size=(3, 3), stride=(1, 1), padding=(1, 1), bias=False)\n",
            "      (bn1): BatchNorm2d(256, eps=1e-05, momentum=0.1, affine=True, track_running_stats=True)\n",
            "      (conv2): Conv2d(256, 256, kernel_size=(3, 3), stride=(1, 1), padding=(1, 1), bias=False)\n",
            "      (bn2): BatchNorm2d(256, eps=1e-05, momentum=0.1, affine=True, track_running_stats=True)\n",
            "      (shortcut): Sequential()\n",
            "    )\n",
            "  )\n",
            "  (linear): Linear(in_features=256, out_features=10, bias=True)\n",
            ")\n"
          ]
        }
      ],
      "source": [
        "layers = list(net.children())\n",
        "\n",
        "print(len(layers))\n",
        "\n",
        "print(net)\n",
        "# print(\"layers[0]: \", layers[0])\n",
        "# print(\"layers[1]: \", layers[1])\n",
        "# print(\"layers[2]: \", layers[2])\n",
        "# print(\"layers[3]: \", layers[3])\n",
        "# print(\"layers[4]: \", layers[4])\n",
        "# print(\"layers[5]: \", layers[5])\n",
        "# print(\"layers[6]: \", layers[6])"
      ]
    },
    {
      "cell_type": "code",
      "execution_count": 152,
      "metadata": {
        "id": "kgQPV3H4ZTxA"
      },
      "outputs": [],
      "source": [
        "\n",
        "def count_parameters(model):\n",
        "    return sum(p.numel() for p in model.parameters() if p.requires_grad)\n",
        "\n",
        "def print_params(model):\n",
        "  print(\"Number of parameters \", humanize.intword(count_parameters(model)))\n",
        "  return"
      ]
    },
    {
      "cell_type": "code",
      "execution_count": 153,
      "metadata": {
        "colab": {
          "base_uri": "https://localhost:8080/"
        },
        "id": "BCkbs0btThnx",
        "outputId": "db1abe29-75fe-475f-9582-30de71975d87"
      },
      "outputs": [
        {
          "output_type": "stream",
          "name": "stdout",
          "text": [
            "The number of parameters is \n",
            "Number of parameters  2.8 million\n"
          ]
        }
      ],
      "source": [
        "print(\"The number of parameters is \")\n",
        "print_params(net)"
      ]
    },
    {
      "cell_type": "code",
      "execution_count": 154,
      "metadata": {
        "id": "nTqr1gYtVHgE"
      },
      "outputs": [],
      "source": [
        "# from torchsummary import summary\n",
        "\n",
        "# def print_model_summary(model):\n",
        "#   print(summary(model.to(device), (3, 32, 32)))\n",
        "\n",
        "# print_model_summary(net)"
      ]
    },
    {
      "cell_type": "code",
      "execution_count": 155,
      "metadata": {
        "id": "tejFfYvQJxR5",
        "colab": {
          "base_uri": "https://localhost:8080/"
        },
        "outputId": "67aa219e-f5dc-4a45-9e41-63011af58c0a"
      },
      "outputs": [
        {
          "output_type": "stream",
          "name": "stdout",
          "text": [
            "conv1.weight torch.Size([64, 3, 3, 3])\n",
            "bn1.weight torch.Size([64])\n",
            "bn1.bias torch.Size([64])\n",
            "layer1.0.conv1.weight torch.Size([64, 64, 3, 3])\n",
            "layer1.0.bn1.weight torch.Size([64])\n",
            "layer1.0.bn1.bias torch.Size([64])\n",
            "layer1.0.conv2.weight torch.Size([64, 64, 3, 3])\n",
            "layer1.0.bn2.weight torch.Size([64])\n",
            "layer1.0.bn2.bias torch.Size([64])\n",
            "layer1.1.conv1.weight torch.Size([64, 64, 3, 3])\n",
            "layer1.1.bn1.weight torch.Size([64])\n",
            "layer1.1.bn1.bias torch.Size([64])\n",
            "layer1.1.conv2.weight torch.Size([64, 64, 3, 3])\n",
            "layer1.1.bn2.weight torch.Size([64])\n",
            "layer1.1.bn2.bias torch.Size([64])\n",
            "layer2.0.conv1.weight torch.Size([128, 64, 3, 3])\n",
            "layer2.0.bn1.weight torch.Size([128])\n",
            "layer2.0.bn1.bias torch.Size([128])\n",
            "layer2.0.conv2.weight torch.Size([128, 128, 3, 3])\n",
            "layer2.0.bn2.weight torch.Size([128])\n",
            "layer2.0.bn2.bias torch.Size([128])\n",
            "layer2.0.shortcut.0.weight torch.Size([128, 64, 1, 1])\n",
            "layer2.0.shortcut.1.weight torch.Size([128])\n",
            "layer2.0.shortcut.1.bias torch.Size([128])\n",
            "layer2.1.conv1.weight torch.Size([128, 128, 3, 3])\n",
            "layer2.1.bn1.weight torch.Size([128])\n",
            "layer2.1.bn1.bias torch.Size([128])\n",
            "layer2.1.conv2.weight torch.Size([128, 128, 3, 3])\n",
            "layer2.1.bn2.weight torch.Size([128])\n",
            "layer2.1.bn2.bias torch.Size([128])\n",
            "layer3.0.conv1.weight torch.Size([256, 128, 3, 3])\n",
            "layer3.0.bn1.weight torch.Size([256])\n",
            "layer3.0.bn1.bias torch.Size([256])\n",
            "layer3.0.conv2.weight torch.Size([256, 256, 3, 3])\n",
            "layer3.0.bn2.weight torch.Size([256])\n",
            "layer3.0.bn2.bias torch.Size([256])\n",
            "layer3.0.shortcut.0.weight torch.Size([256, 128, 1, 1])\n",
            "layer3.0.shortcut.1.weight torch.Size([256])\n",
            "layer3.0.shortcut.1.bias torch.Size([256])\n",
            "layer3.1.conv1.weight torch.Size([256, 256, 3, 3])\n",
            "layer3.1.bn1.weight torch.Size([256])\n",
            "layer3.1.bn1.bias torch.Size([256])\n",
            "layer3.1.conv2.weight torch.Size([256, 256, 3, 3])\n",
            "layer3.1.bn2.weight torch.Size([256])\n",
            "layer3.1.bn2.bias torch.Size([256])\n",
            "linear.weight torch.Size([10, 256])\n",
            "linear.bias torch.Size([10])\n"
          ]
        }
      ],
      "source": [
        "def print_model_layers(model):\n",
        "  for name, param in model.named_parameters():\n",
        "    print(name, param.size())\n",
        "\n",
        "print_model_layers(net)"
      ]
    },
    {
      "cell_type": "code",
      "execution_count": 156,
      "metadata": {
        "id": "iod4A6RJVzBb"
      },
      "outputs": [],
      "source": [
        "def freeze_layer(layer_name):\n",
        "  for param_name, param in net.named_parameters():\n",
        "    if layer_name in param_name:\n",
        "      param.requires_grad = False"
      ]
    },
    {
      "cell_type": "code",
      "execution_count": 157,
      "metadata": {
        "id": "D4CjYR_cLnDx"
      },
      "outputs": [],
      "source": [
        "# freeze_layer(\"layer3\")"
      ]
    },
    {
      "cell_type": "code",
      "execution_count": 158,
      "metadata": {
        "id": "WDYLyuksFbiB",
        "colab": {
          "base_uri": "https://localhost:8080/"
        },
        "outputId": "e3eb930e-cc9d-45c2-982d-2dee9f63ccd7"
      },
      "outputs": [
        {
          "output_type": "stream",
          "name": "stdout",
          "text": [
            "----------------------------------------------------------------\n",
            "        Layer (type)               Output Shape         Param #\n",
            "================================================================\n",
            "            Conv2d-1           [-1, 64, 32, 32]           1,728\n",
            "       BatchNorm2d-2           [-1, 64, 32, 32]             128\n",
            "            Conv2d-3           [-1, 64, 32, 32]          36,864\n",
            "       BatchNorm2d-4           [-1, 64, 32, 32]             128\n",
            "            Conv2d-5           [-1, 64, 32, 32]          36,864\n",
            "       BatchNorm2d-6           [-1, 64, 32, 32]             128\n",
            "        BasicBlock-7           [-1, 64, 32, 32]               0\n",
            "            Conv2d-8           [-1, 64, 32, 32]          36,864\n",
            "       BatchNorm2d-9           [-1, 64, 32, 32]             128\n",
            "           Conv2d-10           [-1, 64, 32, 32]          36,864\n",
            "      BatchNorm2d-11           [-1, 64, 32, 32]             128\n",
            "       BasicBlock-12           [-1, 64, 32, 32]               0\n",
            "           Conv2d-13          [-1, 128, 16, 16]          73,728\n",
            "      BatchNorm2d-14          [-1, 128, 16, 16]             256\n",
            "           Conv2d-15          [-1, 128, 16, 16]         147,456\n",
            "      BatchNorm2d-16          [-1, 128, 16, 16]             256\n",
            "           Conv2d-17          [-1, 128, 16, 16]           8,192\n",
            "      BatchNorm2d-18          [-1, 128, 16, 16]             256\n",
            "       BasicBlock-19          [-1, 128, 16, 16]               0\n",
            "           Conv2d-20          [-1, 128, 16, 16]         147,456\n",
            "      BatchNorm2d-21          [-1, 128, 16, 16]             256\n",
            "           Conv2d-22          [-1, 128, 16, 16]         147,456\n",
            "      BatchNorm2d-23          [-1, 128, 16, 16]             256\n",
            "       BasicBlock-24          [-1, 128, 16, 16]               0\n",
            "           Conv2d-25            [-1, 256, 4, 4]         294,912\n",
            "      BatchNorm2d-26            [-1, 256, 4, 4]             512\n",
            "           Conv2d-27            [-1, 256, 4, 4]         589,824\n",
            "      BatchNorm2d-28            [-1, 256, 4, 4]             512\n",
            "           Conv2d-29            [-1, 256, 4, 4]          32,768\n",
            "      BatchNorm2d-30            [-1, 256, 4, 4]             512\n",
            "       BasicBlock-31            [-1, 256, 4, 4]               0\n",
            "           Conv2d-32            [-1, 256, 4, 4]         589,824\n",
            "      BatchNorm2d-33            [-1, 256, 4, 4]             512\n",
            "           Conv2d-34            [-1, 256, 4, 4]         589,824\n",
            "      BatchNorm2d-35            [-1, 256, 4, 4]             512\n",
            "       BasicBlock-36            [-1, 256, 4, 4]               0\n",
            "           Linear-37                   [-1, 10]           2,570\n",
            "================================================================\n",
            "Total params: 2,777,674\n",
            "Trainable params: 2,777,674\n",
            "Non-trainable params: 0\n",
            "----------------------------------------------------------------\n",
            "Input size (MB): 0.01\n",
            "Forward/backward pass size (MB): 9.38\n",
            "Params size (MB): 10.60\n",
            "Estimated Total Size (MB): 19.98\n",
            "----------------------------------------------------------------\n",
            "None\n"
          ]
        }
      ],
      "source": [
        "print_model_summary(net)"
      ]
    },
    {
      "cell_type": "code",
      "execution_count": 159,
      "metadata": {
        "id": "a3kWtBzVWg3Y"
      },
      "outputs": [],
      "source": [
        "net = net.to(device)\n",
        "if device == 'cuda':\n",
        "    net = torch.nn.DataParallel(net)\n",
        "    cudnn.benchmark = True\n",
        "\n",
        "lr = 0.1\n",
        "lr = 0.01\n",
        "criterion = nn.CrossEntropyLoss()\n",
        "\n",
        "#optimizer = optim.Adam(net.parameters(), lr=lr, weight_decay=5e-4)\n",
        "optimizer = optim.SGD(net.parameters(), lr=lr,\n",
        "                       momentum=0.9, weight_decay=5e-4)\n",
        "\n",
        "scheduler = torch.optim.lr_scheduler.CosineAnnealingLR(optimizer, T_max=200)\n",
        "\n",
        "save_loss = {'train':[], 'test':[]}\n",
        "save_acc = {'train':[], 'test':[]}\n",
        "\n",
        "train_acc_array, train_loss_array = [], [] # for plotting\n",
        "val_acc_array, val_loss_array = [], [] # for plotting"
      ]
    },
    {
      "cell_type": "code",
      "execution_count": 160,
      "metadata": {
        "id": "CIzJObnOWz2d"
      },
      "outputs": [],
      "source": [
        "# Training\n",
        "def train(epoch):\n",
        "    print('\\nEpoch: %d' % epoch)\n",
        "    net.train()\n",
        "    train_loss = 0\n",
        "    correct = 0\n",
        "    total = 0\n",
        "    train_acc = 0\n",
        "    for batch_idx, (inputs, targets) in enumerate(trainloader):\n",
        "        inputs, targets = inputs.to(device), targets.to(device)\n",
        "        optimizer.zero_grad()\n",
        "        outputs = net(inputs)\n",
        "        loss = criterion(outputs, targets)\n",
        "        loss.backward()\n",
        "        optimizer.step()\n",
        "\n",
        "        train_loss += loss.item()\n",
        "        _, predicted = outputs.max(1)\n",
        "        total += targets.size(0)\n",
        "        correct += predicted.eq(targets).sum().item()\n",
        "\n",
        "        train_acc=100.*correct/total\n",
        "        progress_bar(batch_idx, len(trainloader), 'Train Loss: %.3f | Train Acc: %.3f%% (%d/%d)'\n",
        "                     % (train_loss/(batch_idx+1), 100.*correct/total, correct, total))\n",
        "\n",
        "    train_acc_array.append(train_acc) # for plottting\n",
        "    train_loss_array.append(train_loss) # for plottting\n"
      ]
    },
    {
      "cell_type": "code",
      "execution_count": 161,
      "metadata": {
        "id": "0CHlPBF6uIhT"
      },
      "outputs": [],
      "source": [
        "def evaluate(epoch): # validation\n",
        "   \n",
        "    global best_acc\n",
        "    net.eval()\n",
        "    valid_loss = 0\n",
        "    correct = 0\n",
        "    total = 0\n",
        "    with torch.no_grad():\n",
        "          \n",
        "        for batch_idx, (inputs, targets) in enumerate(val_loader):\n",
        "            inputs, targets = inputs.to(device), targets.to(device)\n",
        "            outputs = net(inputs)\n",
        "            loss = criterion(outputs, targets)\n",
        "\n",
        "            valid_loss += loss.item()\n",
        "            _, predicted = outputs.max(1)\n",
        "            total += targets.size(0)\n",
        "            correct += predicted.eq(targets).sum().item()\n",
        "\n",
        "            progress_bar(batch_idx, len(val_loader), 'Valid Loss: %.3f | Valid Acc: %.3f%% (%d/%d)'\n",
        "                         % (valid_loss/(batch_idx+1), 100.*correct/total, correct, total))\n",
        "\n",
        "    # Save checkpoint.\n",
        "    valid_acc = 100.*correct/total\n",
        "    if valid_acc > best_acc:\n",
        "        print('Saving..')\n",
        "        state = {\n",
        "            'net_state_dict': net.state_dict(),\n",
        "            'acc': valid_acc,\n",
        "            'epoch': epoch,\n",
        "        }\n",
        "        if not os.path.isdir('checkpoint'):\n",
        "            os.mkdir('checkpoint')\n",
        "        torch.save(state, './checkpoint/ckpt.pth')\n",
        "        best_acc = valid_acc\n",
        "    val_acc_array.append(valid_acc) # for plottting\n",
        "    val_loss_array.append(valid_loss) # for plottting"
      ]
    },
    {
      "cell_type": "code",
      "execution_count": 162,
      "metadata": {
        "id": "G5i2dqetBgXp"
      },
      "outputs": [],
      "source": [
        "# Load the best model parameters (measured in terms of validation loss) and evaluate the loss/accuracy on the test set.\n",
        "def test(): \n",
        "   \n",
        "    test_loss = 0\n",
        "    correct = 0\n",
        "    total = 0\n",
        "    checkpoint = torch.load('./checkpoint/ckpt.pth')\n",
        "    net.load_state_dict(checkpoint['net_state_dict'])\n",
        "    best_epoch = checkpoint['epoch']\n",
        "    best_acc = checkpoint['acc']\n",
        "    net.eval()\n",
        "    print(f'Best validation acc: {best_acc:.3f}% at Epoch {best_epoch}')\n",
        "    with torch.no_grad():\n",
        "          \n",
        "        for batch_idx, (inputs, targets) in enumerate(testloader):\n",
        "            inputs, targets = inputs.to(device), targets.to(device)\n",
        "            outputs = net(inputs) \n",
        "            loss = criterion(outputs, targets)\n",
        "\n",
        "            test_loss += loss.item()\n",
        "            _, predicted = outputs.max(1)\n",
        "            total += targets.size(0)\n",
        "            correct += predicted.eq(targets).sum().item()\n",
        "\n",
        "            progress_bar(batch_idx, len(testloader), 'Test Loss: %.3f | Test Acc: %.3f%% (%d/%d)'\n",
        "                         % (test_loss/(batch_idx+1), 100.*correct/total, correct, total))\n"
      ]
    },
    {
      "cell_type": "code",
      "execution_count": 163,
      "metadata": {
        "id": "Qyuhb-GrXzUo",
        "colab": {
          "base_uri": "https://localhost:8080/"
        },
        "outputId": "ebb15632-d976-4b03-fb49-de6d8881a46d"
      },
      "outputs": [
        {
          "output_type": "stream",
          "name": "stdout",
          "text": [
            "Using device  cuda\n"
          ]
        }
      ],
      "source": [
        "print(\"Using device \", device)"
      ]
    },
    {
      "cell_type": "code",
      "execution_count": 164,
      "metadata": {
        "id": "79HcWh5aXzUq",
        "colab": {
          "base_uri": "https://localhost:8080/"
        },
        "outputId": "249f912a-05a3-4932-9e1b-ef781f73dfc0"
      },
      "outputs": [
        {
          "output_type": "stream",
          "name": "stdout",
          "text": [
            "Number of parameters  2.8 million\n"
          ]
        }
      ],
      "source": [
        "print_params(net)"
      ]
    },
    {
      "cell_type": "code",
      "execution_count": 165,
      "metadata": {
        "id": "jJcMkrBzW7o7",
        "pycharm": {
          "is_executing": true
        },
        "colab": {
          "base_uri": "https://localhost:8080/"
        },
        "outputId": "e71ed424-df6d-42db-d1f6-064d04d999e6"
      },
      "outputs": [
        {
          "output_type": "stream",
          "name": "stdout",
          "text": [
            "\n",
            "Epoch: 0\n",
            " [======>]  Step: 234ms | Tot: 38s867ms | Train Loss: 1.747 | Train Acc: 35.927% (16167/45000)\b\b\b\b 352/352 \n",
            " [======>]  Step: 40ms | Tot: 3s136ms | Valid Loss: 1.609 | Valid Acc: 40.900% (2045/5000)\b\b\b\b 40/40 \n",
            "Saving..\n",
            "\n",
            "Epoch: 1\n",
            " [======>]  Step: 42ms | Tot: 34s435ms | Train Loss: 1.309 | Train Acc: 53.044% (23870/45000)\b\b\b\b 352/352 \n",
            " [======>]  Step: 12ms | Tot: 3s135ms | Valid Loss: 1.301 | Valid Acc: 53.760% (2688/5000)\b\b\b\b 40/40 \n",
            "Saving..\n",
            "\n",
            "Epoch: 2\n",
            " [======>]  Step: 45ms | Tot: 34s620ms | Train Loss: 1.098 | Train Acc: 60.900% (27405/45000)\b\b\b\b 352/352 \n",
            " [======>]  Step: 10ms | Tot: 3s73ms | Valid Loss: 1.165 | Valid Acc: 60.380% (3019/5000)\b\b\b\b 40/40 \n",
            "Saving..\n",
            "\n",
            "Epoch: 3\n",
            " [======>]  Step: 40ms | Tot: 33s745ms | Train Loss: 0.964 | Train Acc: 65.931% (29669/45000)\b\b\b\b 352/352 \n",
            " [======>]  Step: 10ms | Tot: 3s104ms | Valid Loss: 0.981 | Valid Acc: 65.740% (3287/5000)\b\b\b\b 40/40 \n",
            "Saving..\n",
            "\n",
            "Epoch: 4\n",
            " [======>]  Step: 41ms | Tot: 33s901ms | Train Loss: 0.872 | Train Acc: 69.371% (31217/45000)\b\b\b\b 352/352 \n",
            " [======>]  Step: 8ms | Tot: 3s108ms | Valid Loss: 0.950 | Valid Acc: 66.520% (3326/5000)\b\b\b\b 40/40 \n",
            "Saving..\n",
            "\n",
            "Epoch: 5\n",
            " [======>]  Step: 44ms | Tot: 34s207ms | Train Loss: 0.810 | Train Acc: 71.384% (32123/45000)\b\b\b\b 352/352 \n",
            " [======>]  Step: 9ms | Tot: 3s160ms | Valid Loss: 0.915 | Valid Acc: 68.280% (3414/5000)\b\b\b\b 40/40 \n",
            "Saving..\n",
            "\n",
            "Epoch: 6\n",
            " [======>]  Step: 40ms | Tot: 34s21ms | Train Loss: 0.759 | Train Acc: 73.411% (33035/45000)\b\b\b\b 352/352 \n",
            " [======>]  Step: 9ms | Tot: 3s144ms | Valid Loss: 0.890 | Valid Acc: 69.540% (3477/5000)\b\b\b\b 40/40 \n",
            "Saving..\n",
            "\n",
            "Epoch: 7\n",
            " [======>]  Step: 41ms | Tot: 34s382ms | Train Loss: 0.721 | Train Acc: 74.880% (33696/45000)\b\b\b\b 352/352 \n",
            " [======>]  Step: 10ms | Tot: 3s177ms | Valid Loss: 0.836 | Valid Acc: 71.600% (3580/5000)\b\b\b\b 40/40 \n",
            "Saving..\n",
            "\n",
            "Epoch: 8\n",
            " [======>]  Step: 43ms | Tot: 34s93ms | Train Loss: 0.684 | Train Acc: 76.180% (34281/45000)\b\b\b\b 352/352 \n",
            " [======>]  Step: 8ms | Tot: 3s118ms | Valid Loss: 0.714 | Valid Acc: 75.260% (3763/5000)\b\b\b\b 40/40 \n",
            "Saving..\n",
            "\n",
            "Epoch: 9\n",
            " [======>]  Step: 40ms | Tot: 34s217ms | Train Loss: 0.661 | Train Acc: 76.902% (34606/45000)\b\b\b\b 352/352 \n",
            " [======>]  Step: 9ms | Tot: 3s138ms | Valid Loss: 0.816 | Valid Acc: 70.980% (3549/5000)\b\b\b\b 40/40 \n",
            "\n",
            "Epoch: 10\n",
            " [======>]  Step: 43ms | Tot: 34s198ms | Train Loss: 0.632 | Train Acc: 77.991% (35096/45000)\b\b\b\b 352/352 \n",
            " [======>]  Step: 10ms | Tot: 3s202ms | Valid Loss: 0.706 | Valid Acc: 75.260% (3763/5000)\b\b\b\b 40/40 \n",
            "\n",
            "Epoch: 11\n",
            " [======>]  Step: 42ms | Tot: 34s403ms | Train Loss: 0.605 | Train Acc: 78.740% (35433/45000)\b\b\b\b 352/352 \n",
            " [======>]  Step: 11ms | Tot: 3s116ms | Valid Loss: 0.691 | Valid Acc: 76.740% (3837/5000)\b\b\b\b 40/40 \n",
            "Saving..\n",
            "\n",
            "Epoch: 12\n",
            " [======>]  Step: 45ms | Tot: 34s648ms | Train Loss: 0.589 | Train Acc: 79.580% (35811/45000)\b\b\b\b 352/352 \n",
            " [======>]  Step: 9ms | Tot: 3s134ms | Valid Loss: 0.756 | Valid Acc: 74.380% (3719/5000)\b\b\b\b 40/40 \n",
            "\n",
            "Epoch: 13\n",
            " [======>]  Step: 38ms | Tot: 33s938ms | Train Loss: 0.575 | Train Acc: 80.080% (36036/45000)\b\b\b\b 352/352 \n",
            " [======>]  Step: 11ms | Tot: 3s143ms | Valid Loss: 0.657 | Valid Acc: 76.540% (3827/5000)\b\b\b\b 40/40 \n",
            "\n",
            "Epoch: 14\n",
            " [======>]  Step: 44ms | Tot: 33s840ms | Train Loss: 0.559 | Train Acc: 80.640% (36288/45000)\b\b\b\b 352/352 \n",
            " [======>]  Step: 9ms | Tot: 3s66ms | Valid Loss: 0.681 | Valid Acc: 76.600% (3830/5000)\b\b\b\b 40/40 \n",
            "\n",
            "Epoch: 15\n",
            " [======>]  Step: 41ms | Tot: 34s134ms | Train Loss: 0.539 | Train Acc: 81.258% (36566/45000)\b\b\b\b 352/352 \n",
            " [======>]  Step: 10ms | Tot: 3s200ms | Valid Loss: 0.636 | Valid Acc: 77.700% (3885/5000)\b\b\b\b 40/40 \n",
            "Saving..\n",
            "\n",
            "Epoch: 16\n",
            " [======>]  Step: 43ms | Tot: 33s870ms | Train Loss: 0.521 | Train Acc: 81.627% (36732/45000)\b\b\b\b 352/352 \n",
            " [======>]  Step: 15ms | Tot: 3s144ms | Valid Loss: 0.642 | Valid Acc: 78.040% (3902/5000)\b\b\b\b 40/40 \n",
            "Saving..\n",
            "\n",
            "Epoch: 17\n",
            " [======>]  Step: 42ms | Tot: 33s530ms | Train Loss: 0.519 | Train Acc: 81.918% (36863/45000)\b\b\b\b 352/352 \n",
            " [======>]  Step: 8ms | Tot: 3s89ms | Valid Loss: 0.617 | Valid Acc: 78.680% (3934/5000)\b\b\b\b 40/40 \n",
            "Saving..\n",
            "\n",
            "Epoch: 18\n",
            " [======>]  Step: 42ms | Tot: 33s776ms | Train Loss: 0.497 | Train Acc: 82.593% (37167/45000)\b\b\b\b 352/352 \n",
            " [======>]  Step: 9ms | Tot: 3s93ms | Valid Loss: 0.565 | Valid Acc: 80.360% (4018/5000)\b\b\b\b 40/40 \n",
            "Saving..\n",
            "\n",
            "Epoch: 19\n",
            " [======>]  Step: 40ms | Tot: 33s870ms | Train Loss: 0.482 | Train Acc: 83.162% (37423/45000)\b\b\b\b 352/352 \n",
            " [======>]  Step: 8ms | Tot: 3s129ms | Valid Loss: 0.613 | Valid Acc: 79.140% (3957/5000)\b\b\b\b 40/40 \n",
            "\n",
            "Epoch: 20\n",
            " [======>]  Step: 41ms | Tot: 34s54ms | Train Loss: 0.477 | Train Acc: 83.464% (37559/45000)\b\b\b\b 352/352 \n",
            " [======>]  Step: 9ms | Tot: 3s96ms | Valid Loss: 0.557 | Valid Acc: 80.040% (4002/5000)\b\b\b\b 40/40 \n",
            "\n",
            "Epoch: 21\n",
            " [======>]  Step: 44ms | Tot: 34s86ms | Train Loss: 0.462 | Train Acc: 83.927% (37767/45000)\b\b\b\b 352/352 \n",
            " [======>]  Step: 10ms | Tot: 3s181ms | Valid Loss: 0.520 | Valid Acc: 81.500% (4075/5000)\b\b\b\b 40/40 \n",
            "Saving..\n",
            "\n",
            "Epoch: 22\n",
            " [======>]  Step: 41ms | Tot: 34s215ms | Train Loss: 0.455 | Train Acc: 84.124% (37856/45000)\b\b\b\b 352/352 \n",
            " [======>]  Step: 11ms | Tot: 3s163ms | Valid Loss: 0.550 | Valid Acc: 80.280% (4014/5000)\b\b\b\b 40/40 \n",
            "\n",
            "Epoch: 23\n",
            " [======>]  Step: 40ms | Tot: 35s136ms | Train Loss: 0.442 | Train Acc: 84.633% (38085/45000)\b\b\b\b 352/352 \n",
            " [======>]  Step: 10ms | Tot: 3s184ms | Valid Loss: 0.554 | Valid Acc: 80.840% (4042/5000)\b\b\b\b 40/40 \n",
            "\n",
            "Epoch: 24\n",
            " [======>]  Step: 45ms | Tot: 35s227ms | Train Loss: 0.429 | Train Acc: 85.042% (38269/45000)\b\b\b\b 352/352 \n",
            " [======>]  Step: 10ms | Tot: 3s309ms | Valid Loss: 0.551 | Valid Acc: 80.400% (4020/5000)\b\b\b\b 40/40 \n",
            "\n",
            "Epoch: 25\n",
            " [======>]  Step: 42ms | Tot: 34s861ms | Train Loss: 0.428 | Train Acc: 85.011% (38255/45000)\b\b\b\b 352/352 \n",
            " [======>]  Step: 11ms | Tot: 3s264ms | Valid Loss: 0.553 | Valid Acc: 80.600% (4030/5000)\b\b\b\b 40/40 \n",
            "\n",
            "Epoch: 26\n",
            " [======>]  Step: 46ms | Tot: 34s949ms | Train Loss: 0.420 | Train Acc: 85.284% (38378/45000)\b\b\b\b 352/352 \n",
            " [======>]  Step: 9ms | Tot: 3s231ms | Valid Loss: 0.533 | Valid Acc: 81.760% (4088/5000)\b\b\b\b 40/40 \n",
            "Saving..\n",
            "\n",
            "Epoch: 27\n",
            " [======>]  Step: 43ms | Tot: 35s70ms | Train Loss: 0.412 | Train Acc: 85.589% (38515/45000)\b\b\b\b 352/352 \n",
            " [======>]  Step: 11ms | Tot: 3s208ms | Valid Loss: 0.577 | Valid Acc: 80.460% (4023/5000)\b\b\b\b 40/40 \n",
            "\n",
            "Epoch: 28\n",
            " [======>]  Step: 41ms | Tot: 35s55ms | Train Loss: 0.406 | Train Acc: 85.769% (38596/45000)\b\b\b\b 352/352 \n",
            " [======>]  Step: 9ms | Tot: 3s165ms | Valid Loss: 0.500 | Valid Acc: 82.260% (4113/5000)\b\b\b\b 40/40 \n",
            "Saving..\n",
            "\n",
            "Epoch: 29\n",
            " [======>]  Step: 40ms | Tot: 34s541ms | Train Loss: 0.393 | Train Acc: 86.171% (38777/45000)\b\b\b\b 352/352 \n",
            " [======>]  Step: 11ms | Tot: 3s114ms | Valid Loss: 0.527 | Valid Acc: 82.100% (4105/5000)\b\b\b\b 40/40 \n",
            "\n",
            "Epoch: 30\n",
            " [======>]  Step: 43ms | Tot: 34s692ms | Train Loss: 0.389 | Train Acc: 86.462% (38908/45000)\b\b\b\b 352/352 \n",
            " [======>]  Step: 14ms | Tot: 3s68ms | Valid Loss: 0.518 | Valid Acc: 81.880% (4094/5000)\b\b\b\b 40/40 \n",
            "\n",
            "Epoch: 31\n",
            " [======>]  Step: 40ms | Tot: 34s401ms | Train Loss: 0.384 | Train Acc: 86.644% (38990/45000)\b\b\b\b 352/352 \n",
            " [======>]  Step: 8ms | Tot: 3s330ms | Valid Loss: 0.519 | Valid Acc: 83.400% (4170/5000)\b\b\b\b 40/40 \n",
            "Saving..\n",
            "\n",
            "Epoch: 32\n",
            " [======>]  Step: 41ms | Tot: 34s319ms | Train Loss: 0.376 | Train Acc: 86.929% (39118/45000)\b\b\b\b 352/352 \n",
            " [======>]  Step: 9ms | Tot: 3s183ms | Valid Loss: 0.516 | Valid Acc: 82.780% (4139/5000)\b\b\b\b 40/40 \n",
            "\n",
            "Epoch: 33\n",
            " [======>]  Step: 43ms | Tot: 34s328ms | Train Loss: 0.372 | Train Acc: 87.140% (39213/45000)\b\b\b\b 352/352 \n",
            " [======>]  Step: 12ms | Tot: 3s137ms | Valid Loss: 0.492 | Valid Acc: 83.200% (4160/5000)\b\b\b\b 40/40 \n",
            "\n",
            "Epoch: 34\n",
            " [======>]  Step: 43ms | Tot: 34s682ms | Train Loss: 0.369 | Train Acc: 87.120% (39204/45000)\b\b\b\b 352/352 \n",
            " [======>]  Step: 10ms | Tot: 3s236ms | Valid Loss: 0.510 | Valid Acc: 83.000% (4150/5000)\b\b\b\b 40/40 \n",
            "\n",
            "Epoch: 35\n",
            " [======>]  Step: 44ms | Tot: 34s708ms | Train Loss: 0.363 | Train Acc: 87.260% (39267/45000)\b\b\b\b 352/352 \n",
            " [======>]  Step: 9ms | Tot: 3s291ms | Valid Loss: 0.466 | Valid Acc: 83.860% (4193/5000)\b\b\b\b 40/40 \n",
            "Saving..\n",
            "\n",
            "Epoch: 36\n",
            " [======>]  Step: 41ms | Tot: 34s459ms | Train Loss: 0.357 | Train Acc: 87.513% (39381/45000)\b\b\b\b 352/352 \n",
            " [======>]  Step: 9ms | Tot: 3s216ms | Valid Loss: 0.550 | Valid Acc: 81.660% (4083/5000)\b\b\b\b 40/40 \n",
            "\n",
            "Epoch: 37\n",
            " [======>]  Step: 44ms | Tot: 34s899ms | Train Loss: 0.352 | Train Acc: 87.764% (39494/45000)\b\b\b\b 352/352 \n",
            " [======>]  Step: 8ms | Tot: 3s163ms | Valid Loss: 0.522 | Valid Acc: 82.020% (4101/5000)\b\b\b\b 40/40 \n",
            "\n",
            "Epoch: 38\n",
            " [======>]  Step: 42ms | Tot: 34s665ms | Train Loss: 0.347 | Train Acc: 87.822% (39520/45000)\b\b\b\b 352/352 \n",
            " [======>]  Step: 10ms | Tot: 3s213ms | Valid Loss: 0.476 | Valid Acc: 83.580% (4179/5000)\b\b\b\b 40/40 \n",
            "\n",
            "Epoch: 39\n",
            " [======>]  Step: 44ms | Tot: 35s132ms | Train Loss: 0.343 | Train Acc: 88.140% (39663/45000)\b\b\b\b 352/352 \n",
            " [======>]  Step: 10ms | Tot: 3s165ms | Valid Loss: 0.496 | Valid Acc: 83.300% (4165/5000)\b\b\b\b 40/40 \n",
            "\n",
            "Epoch: 40\n",
            " [======>]  Step: 44ms | Tot: 34s712ms | Train Loss: 0.338 | Train Acc: 88.287% (39729/45000)\b\b\b\b 352/352 \n",
            " [======>]  Step: 10ms | Tot: 3s217ms | Valid Loss: 0.533 | Valid Acc: 82.560% (4128/5000)\b\b\b\b 40/40 \n",
            "\n",
            "Epoch: 41\n",
            " [======>]  Step: 40ms | Tot: 34s321ms | Train Loss: 0.339 | Train Acc: 88.287% (39729/45000)\b\b\b\b 352/352 \n",
            " [======>]  Step: 10ms | Tot: 3s162ms | Valid Loss: 0.488 | Valid Acc: 84.200% (4210/5000)\b\b\b\b 40/40 \n",
            "Saving..\n",
            "\n",
            "Epoch: 42\n",
            " [======>]  Step: 43ms | Tot: 34s384ms | Train Loss: 0.332 | Train Acc: 88.407% (39783/45000)\b\b\b\b 352/352 \n",
            " [======>]  Step: 8ms | Tot: 3s186ms | Valid Loss: 0.481 | Valid Acc: 83.660% (4183/5000)\b\b\b\b 40/40 \n",
            "\n",
            "Epoch: 43\n",
            " [======>]  Step: 43ms | Tot: 34s116ms | Train Loss: 0.330 | Train Acc: 88.591% (39866/45000)\b\b\b\b 352/352 \n",
            " [======>]  Step: 9ms | Tot: 3s152ms | Valid Loss: 0.472 | Valid Acc: 84.200% (4210/5000)\b\b\b\b 40/40 \n",
            "\n",
            "Epoch: 44\n",
            " [======>]  Step: 45ms | Tot: 34s929ms | Train Loss: 0.323 | Train Acc: 88.836% (39976/45000)\b\b\b\b 352/352 \n",
            " [======>]  Step: 12ms | Tot: 3s101ms | Valid Loss: 0.523 | Valid Acc: 82.620% (4131/5000)\b\b\b\b 40/40 \n",
            "\n",
            "Epoch: 45\n",
            " [======>]  Step: 43ms | Tot: 37s611ms | Train Loss: 0.316 | Train Acc: 88.973% (40038/45000)\b\b\b\b 352/352 \n",
            " [======>]  Step: 14ms | Tot: 5s314ms | Valid Loss: 0.454 | Valid Acc: 84.140% (4207/5000)\b\b\b\b 40/40 \n",
            "\n",
            "Epoch: 46\n",
            " [======>]  Step: 44ms | Tot: 35s23ms | Train Loss: 0.318 | Train Acc: 88.807% (39963/45000)\b\b\b\b 352/352 \n",
            " [======>]  Step: 12ms | Tot: 3s188ms | Valid Loss: 0.533 | Valid Acc: 81.920% (4096/5000)\b\b\b\b 40/40 \n",
            "\n",
            "Epoch: 47\n",
            " [======>]  Step: 42ms | Tot: 34s244ms | Train Loss: 0.314 | Train Acc: 89.022% (40060/45000)\b\b\b\b 352/352 \n",
            " [======>]  Step: 10ms | Tot: 3s169ms | Valid Loss: 0.425 | Valid Acc: 85.240% (4262/5000)\b\b\b\b 40/40 \n",
            "Saving..\n",
            "\n",
            "Epoch: 48\n",
            " [======>]  Step: 38ms | Tot: 34s318ms | Train Loss: 0.310 | Train Acc: 89.176% (40129/45000)\b\b\b\b 352/352 \n",
            " [======>]  Step: 10ms | Tot: 3s201ms | Valid Loss: 0.448 | Valid Acc: 84.540% (4227/5000)\b\b\b\b 40/40 \n",
            "\n",
            "Epoch: 49\n",
            " [======>]  Step: 43ms | Tot: 34s372ms | Train Loss: 0.309 | Train Acc: 89.249% (40162/45000)\b\b\b\b 352/352 \n",
            " [======>]  Step: 10ms | Tot: 3s184ms | Valid Loss: 0.466 | Valid Acc: 84.220% (4211/5000)\b\b\b\b 40/40 \n",
            "---------------------------------------- Testing Model... ----------------------------------------\n",
            "Best validation acc: 85.240% at Epoch 47\n",
            " [======>]  Step: 25ms | Tot: 3s310ms | Test Loss: 0.291 | Test Acc: 90.670% (9067/10000)\b\b\b\b 100/100 \n"
          ]
        }
      ],
      "source": [
        "NUM_EPOCHS = 50\n",
        "\n",
        "for epoch in range(start_epoch, start_epoch + NUM_EPOCHS):\n",
        "    train(epoch)\n",
        "    evaluate(epoch)\n",
        "    scheduler.step()\n",
        "\n",
        "print('---------------------------------------- Testing Model... ----------------------------------------')\n",
        "test()"
      ]
    },
    {
      "cell_type": "code",
      "execution_count": 171,
      "metadata": {
        "pycharm": {
          "is_executing": true
        },
        "outputId": "3e735733-06c5-46af-bfc3-9d635dcd42d8",
        "colab": {
          "base_uri": "https://localhost:8080/",
          "height": 1000
        },
        "id": "SBpSbX6bWVRb"
      },
      "outputs": [
        {
          "output_type": "stream",
          "name": "stdout",
          "text": [
            "\n",
            "Epoch: 50\n",
            " [======>]  Step: 41ms | Tot: 34s952ms | Train Loss: 0.308 | Train Acc: 89.311% (40190/45000)\b\b\b\b 352/352 \n",
            " [======>]  Step: 9ms | Tot: 3s65ms | Valid Loss: 0.470 | Valid Acc: 84.700% (4235/5000)\b\b\b\b 40/40 \n",
            "\n",
            "Epoch: 51\n",
            " [======>]  Step: 42ms | Tot: 34s886ms | Train Loss: 0.307 | Train Acc: 89.409% (40234/45000)\b\b\b\b 352/352 \n",
            " [======>]  Step: 10ms | Tot: 3s204ms | Valid Loss: 0.464 | Valid Acc: 84.900% (4245/5000)\b\b\b\b 40/40 \n",
            "\n",
            "Epoch: 52\n",
            " [======>]  Step: 46ms | Tot: 34s454ms | Train Loss: 0.306 | Train Acc: 89.244% (40160/45000)\b\b\b\b 352/352 \n",
            " [======>]  Step: 11ms | Tot: 3s191ms | Valid Loss: 0.472 | Valid Acc: 84.420% (4221/5000)\b\b\b\b 40/40 \n",
            "\n",
            "Epoch: 53\n",
            " [======>]  Step: 46ms | Tot: 34s470ms | Train Loss: 0.293 | Train Acc: 89.882% (40447/45000)\b\b\b\b 352/352 \n",
            " [======>]  Step: 13ms | Tot: 3s191ms | Valid Loss: 0.422 | Valid Acc: 85.260% (4263/5000)\b\b\b\b 40/40 \n",
            "Saving..\n",
            "\n",
            "Epoch: 54\n",
            " [======>]  Step: 41ms | Tot: 34s497ms | Train Loss: 0.295 | Train Acc: 89.744% (40385/45000)\b\b\b\b 352/352 \n",
            " [======>]  Step: 10ms | Tot: 3s167ms | Valid Loss: 0.445 | Valid Acc: 84.820% (4241/5000)\b\b\b\b 40/40 \n",
            "\n",
            "Epoch: 55\n",
            " [======>]  Step: 44ms | Tot: 34s443ms | Train Loss: 0.290 | Train Acc: 89.984% (40493/45000)\b\b\b\b 352/352 \n",
            " [======>]  Step: 11ms | Tot: 3s196ms | Valid Loss: 0.457 | Valid Acc: 84.940% (4247/5000)\b\b\b\b 40/40 \n",
            "\n",
            "Epoch: 56\n",
            " [======>]  Step: 41ms | Tot: 34s524ms | Train Loss: 0.289 | Train Acc: 89.887% (40449/45000)\b\b\b\b 352/352 \n",
            " [======>]  Step: 10ms | Tot: 3s187ms | Valid Loss: 0.522 | Valid Acc: 83.100% (4155/5000)\b\b\b\b 40/40 \n",
            "\n",
            "Epoch: 57\n",
            " [======>]  Step: 46ms | Tot: 34s368ms | Train Loss: 0.285 | Train Acc: 90.022% (40510/45000)\b\b\b\b 352/352 \n",
            " [======>]  Step: 10ms | Tot: 3s177ms | Valid Loss: 0.432 | Valid Acc: 85.360% (4268/5000)\b\b\b\b 40/40 \n",
            "Saving..\n",
            "\n",
            "Epoch: 58\n",
            " [======>]  Step: 40ms | Tot: 34s248ms | Train Loss: 0.276 | Train Acc: 90.413% (40686/45000)\b\b\b\b 352/352 \n",
            " [======>]  Step: 13ms | Tot: 3s169ms | Valid Loss: 0.435 | Valid Acc: 85.320% (4266/5000)\b\b\b\b 40/40 \n",
            "\n",
            "Epoch: 59\n",
            " [======>]  Step: 44ms | Tot: 34s431ms | Train Loss: 0.286 | Train Acc: 90.029% (40513/45000)\b\b\b\b 352/352 \n",
            " [======>]  Step: 10ms | Tot: 3s188ms | Valid Loss: 0.435 | Valid Acc: 84.680% (4234/5000)\b\b\b\b 40/40 \n",
            "\n",
            "Epoch: 60\n",
            " [======>]  Step: 43ms | Tot: 34s467ms | Train Loss: 0.275 | Train Acc: 90.338% (40652/45000)\b\b\b\b 352/352 \n",
            " [======>]  Step: 11ms | Tot: 3s181ms | Valid Loss: 0.432 | Valid Acc: 85.460% (4273/5000)\b\b\b\b 40/40 \n",
            "Saving..\n",
            "\n",
            "Epoch: 61\n",
            " [======>]  Step: 45ms | Tot: 34s311ms | Train Loss: 0.280 | Train Acc: 90.278% (40625/45000)\b\b\b\b 352/352 \n",
            " [======>]  Step: 8ms | Tot: 3s199ms | Valid Loss: 0.434 | Valid Acc: 85.180% (4259/5000)\b\b\b\b 40/40 \n",
            "\n",
            "Epoch: 62\n",
            " [======>]  Step: 43ms | Tot: 34s276ms | Train Loss: 0.274 | Train Acc: 90.696% (40813/45000)\b\b\b\b 352/352 \n",
            " [======>]  Step: 11ms | Tot: 3s195ms | Valid Loss: 0.421 | Valid Acc: 85.660% (4283/5000)\b\b\b\b 40/40 \n",
            "Saving..\n",
            "\n",
            "Epoch: 63\n",
            " [======>]  Step: 41ms | Tot: 33s942ms | Train Loss: 0.269 | Train Acc: 90.598% (40769/45000)\b\b\b\b 352/352 \n",
            " [======>]  Step: 9ms | Tot: 3s302ms | Valid Loss: 0.440 | Valid Acc: 84.980% (4249/5000)\b\b\b\b 40/40 \n",
            "\n",
            "Epoch: 64\n"
          ]
        },
        {
          "output_type": "error",
          "ename": "KeyboardInterrupt",
          "evalue": "ignored",
          "traceback": [
            "\u001b[0;31m---------------------------------------------------------------------------\u001b[0m",
            "\u001b[0;31mKeyboardInterrupt\u001b[0m                         Traceback (most recent call last)",
            "\u001b[0;32m<ipython-input-171-7baf2f93ad5f>\u001b[0m in \u001b[0;36m<module>\u001b[0;34m\u001b[0m\n\u001b[1;32m      2\u001b[0m \u001b[0;34m\u001b[0m\u001b[0m\n\u001b[1;32m      3\u001b[0m \u001b[0;32mfor\u001b[0m \u001b[0mepoch\u001b[0m \u001b[0;32min\u001b[0m \u001b[0mrange\u001b[0m\u001b[0;34m(\u001b[0m\u001b[0mstart_epoch\u001b[0m \u001b[0;34m+\u001b[0m \u001b[0mNUM_EPOCHS\u001b[0m\u001b[0;34m,\u001b[0m \u001b[0mstart_epoch\u001b[0m \u001b[0;34m+\u001b[0m \u001b[0mNUM_EPOCHS\u001b[0m \u001b[0;34m+\u001b[0m\u001b[0;36m30\u001b[0m\u001b[0;34m)\u001b[0m\u001b[0;34m:\u001b[0m\u001b[0;34m\u001b[0m\u001b[0;34m\u001b[0m\u001b[0m\n\u001b[0;32m----> 4\u001b[0;31m     \u001b[0mtrain\u001b[0m\u001b[0;34m(\u001b[0m\u001b[0mepoch\u001b[0m\u001b[0;34m)\u001b[0m\u001b[0;34m\u001b[0m\u001b[0;34m\u001b[0m\u001b[0m\n\u001b[0m\u001b[1;32m      5\u001b[0m     \u001b[0mevaluate\u001b[0m\u001b[0;34m(\u001b[0m\u001b[0mepoch\u001b[0m\u001b[0;34m)\u001b[0m\u001b[0;34m\u001b[0m\u001b[0;34m\u001b[0m\u001b[0m\n\u001b[1;32m      6\u001b[0m     \u001b[0mscheduler\u001b[0m\u001b[0;34m.\u001b[0m\u001b[0mstep\u001b[0m\u001b[0;34m(\u001b[0m\u001b[0;34m)\u001b[0m\u001b[0;34m\u001b[0m\u001b[0;34m\u001b[0m\u001b[0m\n",
            "\u001b[0;32m<ipython-input-160-61fc0d5999fe>\u001b[0m in \u001b[0;36mtrain\u001b[0;34m(epoch)\u001b[0m\n\u001b[1;32m      7\u001b[0m     \u001b[0mtotal\u001b[0m \u001b[0;34m=\u001b[0m \u001b[0;36m0\u001b[0m\u001b[0;34m\u001b[0m\u001b[0;34m\u001b[0m\u001b[0m\n\u001b[1;32m      8\u001b[0m     \u001b[0mtrain_acc\u001b[0m \u001b[0;34m=\u001b[0m \u001b[0;36m0\u001b[0m\u001b[0;34m\u001b[0m\u001b[0;34m\u001b[0m\u001b[0m\n\u001b[0;32m----> 9\u001b[0;31m     \u001b[0;32mfor\u001b[0m \u001b[0mbatch_idx\u001b[0m\u001b[0;34m,\u001b[0m \u001b[0;34m(\u001b[0m\u001b[0minputs\u001b[0m\u001b[0;34m,\u001b[0m \u001b[0mtargets\u001b[0m\u001b[0;34m)\u001b[0m \u001b[0;32min\u001b[0m \u001b[0menumerate\u001b[0m\u001b[0;34m(\u001b[0m\u001b[0mtrainloader\u001b[0m\u001b[0;34m)\u001b[0m\u001b[0;34m:\u001b[0m\u001b[0;34m\u001b[0m\u001b[0;34m\u001b[0m\u001b[0m\n\u001b[0m\u001b[1;32m     10\u001b[0m         \u001b[0minputs\u001b[0m\u001b[0;34m,\u001b[0m \u001b[0mtargets\u001b[0m \u001b[0;34m=\u001b[0m \u001b[0minputs\u001b[0m\u001b[0;34m.\u001b[0m\u001b[0mto\u001b[0m\u001b[0;34m(\u001b[0m\u001b[0mdevice\u001b[0m\u001b[0;34m)\u001b[0m\u001b[0;34m,\u001b[0m \u001b[0mtargets\u001b[0m\u001b[0;34m.\u001b[0m\u001b[0mto\u001b[0m\u001b[0;34m(\u001b[0m\u001b[0mdevice\u001b[0m\u001b[0;34m)\u001b[0m\u001b[0;34m\u001b[0m\u001b[0;34m\u001b[0m\u001b[0m\n\u001b[1;32m     11\u001b[0m         \u001b[0moptimizer\u001b[0m\u001b[0;34m.\u001b[0m\u001b[0mzero_grad\u001b[0m\u001b[0;34m(\u001b[0m\u001b[0;34m)\u001b[0m\u001b[0;34m\u001b[0m\u001b[0;34m\u001b[0m\u001b[0m\n",
            "\u001b[0;32m/usr/local/lib/python3.7/dist-packages/torch/utils/data/dataloader.py\u001b[0m in \u001b[0;36m__next__\u001b[0;34m(self)\u001b[0m\n\u001b[1;32m    679\u001b[0m                 \u001b[0;31m# TODO(https://github.com/pytorch/pytorch/issues/76750)\u001b[0m\u001b[0;34m\u001b[0m\u001b[0;34m\u001b[0m\u001b[0;34m\u001b[0m\u001b[0m\n\u001b[1;32m    680\u001b[0m                 \u001b[0mself\u001b[0m\u001b[0;34m.\u001b[0m\u001b[0m_reset\u001b[0m\u001b[0;34m(\u001b[0m\u001b[0;34m)\u001b[0m  \u001b[0;31m# type: ignore[call-arg]\u001b[0m\u001b[0;34m\u001b[0m\u001b[0;34m\u001b[0m\u001b[0m\n\u001b[0;32m--> 681\u001b[0;31m             \u001b[0mdata\u001b[0m \u001b[0;34m=\u001b[0m \u001b[0mself\u001b[0m\u001b[0;34m.\u001b[0m\u001b[0m_next_data\u001b[0m\u001b[0;34m(\u001b[0m\u001b[0;34m)\u001b[0m\u001b[0;34m\u001b[0m\u001b[0;34m\u001b[0m\u001b[0m\n\u001b[0m\u001b[1;32m    682\u001b[0m             \u001b[0mself\u001b[0m\u001b[0;34m.\u001b[0m\u001b[0m_num_yielded\u001b[0m \u001b[0;34m+=\u001b[0m \u001b[0;36m1\u001b[0m\u001b[0;34m\u001b[0m\u001b[0;34m\u001b[0m\u001b[0m\n\u001b[1;32m    683\u001b[0m             \u001b[0;32mif\u001b[0m \u001b[0mself\u001b[0m\u001b[0;34m.\u001b[0m\u001b[0m_dataset_kind\u001b[0m \u001b[0;34m==\u001b[0m \u001b[0m_DatasetKind\u001b[0m\u001b[0;34m.\u001b[0m\u001b[0mIterable\u001b[0m \u001b[0;32mand\u001b[0m\u001b[0;31m \u001b[0m\u001b[0;31m\\\u001b[0m\u001b[0;34m\u001b[0m\u001b[0;34m\u001b[0m\u001b[0m\n",
            "\u001b[0;32m/usr/local/lib/python3.7/dist-packages/torch/utils/data/dataloader.py\u001b[0m in \u001b[0;36m_next_data\u001b[0;34m(self)\u001b[0m\n\u001b[1;32m   1357\u001b[0m \u001b[0;34m\u001b[0m\u001b[0m\n\u001b[1;32m   1358\u001b[0m             \u001b[0;32massert\u001b[0m \u001b[0;32mnot\u001b[0m \u001b[0mself\u001b[0m\u001b[0;34m.\u001b[0m\u001b[0m_shutdown\u001b[0m \u001b[0;32mand\u001b[0m \u001b[0mself\u001b[0m\u001b[0;34m.\u001b[0m\u001b[0m_tasks_outstanding\u001b[0m \u001b[0;34m>\u001b[0m \u001b[0;36m0\u001b[0m\u001b[0;34m\u001b[0m\u001b[0;34m\u001b[0m\u001b[0m\n\u001b[0;32m-> 1359\u001b[0;31m             \u001b[0midx\u001b[0m\u001b[0;34m,\u001b[0m \u001b[0mdata\u001b[0m \u001b[0;34m=\u001b[0m \u001b[0mself\u001b[0m\u001b[0;34m.\u001b[0m\u001b[0m_get_data\u001b[0m\u001b[0;34m(\u001b[0m\u001b[0;34m)\u001b[0m\u001b[0;34m\u001b[0m\u001b[0;34m\u001b[0m\u001b[0m\n\u001b[0m\u001b[1;32m   1360\u001b[0m             \u001b[0mself\u001b[0m\u001b[0;34m.\u001b[0m\u001b[0m_tasks_outstanding\u001b[0m \u001b[0;34m-=\u001b[0m \u001b[0;36m1\u001b[0m\u001b[0;34m\u001b[0m\u001b[0;34m\u001b[0m\u001b[0m\n\u001b[1;32m   1361\u001b[0m             \u001b[0;32mif\u001b[0m \u001b[0mself\u001b[0m\u001b[0;34m.\u001b[0m\u001b[0m_dataset_kind\u001b[0m \u001b[0;34m==\u001b[0m \u001b[0m_DatasetKind\u001b[0m\u001b[0;34m.\u001b[0m\u001b[0mIterable\u001b[0m\u001b[0;34m:\u001b[0m\u001b[0;34m\u001b[0m\u001b[0;34m\u001b[0m\u001b[0m\n",
            "\u001b[0;32m/usr/local/lib/python3.7/dist-packages/torch/utils/data/dataloader.py\u001b[0m in \u001b[0;36m_get_data\u001b[0;34m(self)\u001b[0m\n\u001b[1;32m   1323\u001b[0m         \u001b[0;32melse\u001b[0m\u001b[0;34m:\u001b[0m\u001b[0;34m\u001b[0m\u001b[0;34m\u001b[0m\u001b[0m\n\u001b[1;32m   1324\u001b[0m             \u001b[0;32mwhile\u001b[0m \u001b[0;32mTrue\u001b[0m\u001b[0;34m:\u001b[0m\u001b[0;34m\u001b[0m\u001b[0;34m\u001b[0m\u001b[0m\n\u001b[0;32m-> 1325\u001b[0;31m                 \u001b[0msuccess\u001b[0m\u001b[0;34m,\u001b[0m \u001b[0mdata\u001b[0m \u001b[0;34m=\u001b[0m \u001b[0mself\u001b[0m\u001b[0;34m.\u001b[0m\u001b[0m_try_get_data\u001b[0m\u001b[0;34m(\u001b[0m\u001b[0;34m)\u001b[0m\u001b[0;34m\u001b[0m\u001b[0;34m\u001b[0m\u001b[0m\n\u001b[0m\u001b[1;32m   1326\u001b[0m                 \u001b[0;32mif\u001b[0m \u001b[0msuccess\u001b[0m\u001b[0;34m:\u001b[0m\u001b[0;34m\u001b[0m\u001b[0;34m\u001b[0m\u001b[0m\n\u001b[1;32m   1327\u001b[0m                     \u001b[0;32mreturn\u001b[0m \u001b[0mdata\u001b[0m\u001b[0;34m\u001b[0m\u001b[0;34m\u001b[0m\u001b[0m\n",
            "\u001b[0;32m/usr/local/lib/python3.7/dist-packages/torch/utils/data/dataloader.py\u001b[0m in \u001b[0;36m_try_get_data\u001b[0;34m(self, timeout)\u001b[0m\n\u001b[1;32m   1161\u001b[0m         \u001b[0;31m#   (bool: whether successfully get data, any: data if successful else None)\u001b[0m\u001b[0;34m\u001b[0m\u001b[0;34m\u001b[0m\u001b[0;34m\u001b[0m\u001b[0m\n\u001b[1;32m   1162\u001b[0m         \u001b[0;32mtry\u001b[0m\u001b[0;34m:\u001b[0m\u001b[0;34m\u001b[0m\u001b[0;34m\u001b[0m\u001b[0m\n\u001b[0;32m-> 1163\u001b[0;31m             \u001b[0mdata\u001b[0m \u001b[0;34m=\u001b[0m \u001b[0mself\u001b[0m\u001b[0;34m.\u001b[0m\u001b[0m_data_queue\u001b[0m\u001b[0;34m.\u001b[0m\u001b[0mget\u001b[0m\u001b[0;34m(\u001b[0m\u001b[0mtimeout\u001b[0m\u001b[0;34m=\u001b[0m\u001b[0mtimeout\u001b[0m\u001b[0;34m)\u001b[0m\u001b[0;34m\u001b[0m\u001b[0;34m\u001b[0m\u001b[0m\n\u001b[0m\u001b[1;32m   1164\u001b[0m             \u001b[0;32mreturn\u001b[0m \u001b[0;34m(\u001b[0m\u001b[0;32mTrue\u001b[0m\u001b[0;34m,\u001b[0m \u001b[0mdata\u001b[0m\u001b[0;34m)\u001b[0m\u001b[0;34m\u001b[0m\u001b[0;34m\u001b[0m\u001b[0m\n\u001b[1;32m   1165\u001b[0m         \u001b[0;32mexcept\u001b[0m \u001b[0mException\u001b[0m \u001b[0;32mas\u001b[0m \u001b[0me\u001b[0m\u001b[0;34m:\u001b[0m\u001b[0;34m\u001b[0m\u001b[0;34m\u001b[0m\u001b[0m\n",
            "\u001b[0;32m/usr/lib/python3.7/multiprocessing/queues.py\u001b[0m in \u001b[0;36mget\u001b[0;34m(self, block, timeout)\u001b[0m\n\u001b[1;32m    102\u001b[0m                 \u001b[0;32mif\u001b[0m \u001b[0mblock\u001b[0m\u001b[0;34m:\u001b[0m\u001b[0;34m\u001b[0m\u001b[0;34m\u001b[0m\u001b[0m\n\u001b[1;32m    103\u001b[0m                     \u001b[0mtimeout\u001b[0m \u001b[0;34m=\u001b[0m \u001b[0mdeadline\u001b[0m \u001b[0;34m-\u001b[0m \u001b[0mtime\u001b[0m\u001b[0;34m.\u001b[0m\u001b[0mmonotonic\u001b[0m\u001b[0;34m(\u001b[0m\u001b[0;34m)\u001b[0m\u001b[0;34m\u001b[0m\u001b[0;34m\u001b[0m\u001b[0m\n\u001b[0;32m--> 104\u001b[0;31m                     \u001b[0;32mif\u001b[0m \u001b[0;32mnot\u001b[0m \u001b[0mself\u001b[0m\u001b[0;34m.\u001b[0m\u001b[0m_poll\u001b[0m\u001b[0;34m(\u001b[0m\u001b[0mtimeout\u001b[0m\u001b[0;34m)\u001b[0m\u001b[0;34m:\u001b[0m\u001b[0;34m\u001b[0m\u001b[0;34m\u001b[0m\u001b[0m\n\u001b[0m\u001b[1;32m    105\u001b[0m                         \u001b[0;32mraise\u001b[0m \u001b[0mEmpty\u001b[0m\u001b[0;34m\u001b[0m\u001b[0;34m\u001b[0m\u001b[0m\n\u001b[1;32m    106\u001b[0m                 \u001b[0;32melif\u001b[0m \u001b[0;32mnot\u001b[0m \u001b[0mself\u001b[0m\u001b[0;34m.\u001b[0m\u001b[0m_poll\u001b[0m\u001b[0;34m(\u001b[0m\u001b[0;34m)\u001b[0m\u001b[0;34m:\u001b[0m\u001b[0;34m\u001b[0m\u001b[0;34m\u001b[0m\u001b[0m\n",
            "\u001b[0;32m/usr/lib/python3.7/multiprocessing/connection.py\u001b[0m in \u001b[0;36mpoll\u001b[0;34m(self, timeout)\u001b[0m\n\u001b[1;32m    255\u001b[0m         \u001b[0mself\u001b[0m\u001b[0;34m.\u001b[0m\u001b[0m_check_closed\u001b[0m\u001b[0;34m(\u001b[0m\u001b[0;34m)\u001b[0m\u001b[0;34m\u001b[0m\u001b[0;34m\u001b[0m\u001b[0m\n\u001b[1;32m    256\u001b[0m         \u001b[0mself\u001b[0m\u001b[0;34m.\u001b[0m\u001b[0m_check_readable\u001b[0m\u001b[0;34m(\u001b[0m\u001b[0;34m)\u001b[0m\u001b[0;34m\u001b[0m\u001b[0;34m\u001b[0m\u001b[0m\n\u001b[0;32m--> 257\u001b[0;31m         \u001b[0;32mreturn\u001b[0m \u001b[0mself\u001b[0m\u001b[0;34m.\u001b[0m\u001b[0m_poll\u001b[0m\u001b[0;34m(\u001b[0m\u001b[0mtimeout\u001b[0m\u001b[0;34m)\u001b[0m\u001b[0;34m\u001b[0m\u001b[0;34m\u001b[0m\u001b[0m\n\u001b[0m\u001b[1;32m    258\u001b[0m \u001b[0;34m\u001b[0m\u001b[0m\n\u001b[1;32m    259\u001b[0m     \u001b[0;32mdef\u001b[0m \u001b[0m__enter__\u001b[0m\u001b[0;34m(\u001b[0m\u001b[0mself\u001b[0m\u001b[0;34m)\u001b[0m\u001b[0;34m:\u001b[0m\u001b[0;34m\u001b[0m\u001b[0;34m\u001b[0m\u001b[0m\n",
            "\u001b[0;32m/usr/lib/python3.7/multiprocessing/connection.py\u001b[0m in \u001b[0;36m_poll\u001b[0;34m(self, timeout)\u001b[0m\n\u001b[1;32m    412\u001b[0m \u001b[0;34m\u001b[0m\u001b[0m\n\u001b[1;32m    413\u001b[0m     \u001b[0;32mdef\u001b[0m \u001b[0m_poll\u001b[0m\u001b[0;34m(\u001b[0m\u001b[0mself\u001b[0m\u001b[0;34m,\u001b[0m \u001b[0mtimeout\u001b[0m\u001b[0;34m)\u001b[0m\u001b[0;34m:\u001b[0m\u001b[0;34m\u001b[0m\u001b[0;34m\u001b[0m\u001b[0m\n\u001b[0;32m--> 414\u001b[0;31m         \u001b[0mr\u001b[0m \u001b[0;34m=\u001b[0m \u001b[0mwait\u001b[0m\u001b[0;34m(\u001b[0m\u001b[0;34m[\u001b[0m\u001b[0mself\u001b[0m\u001b[0;34m]\u001b[0m\u001b[0;34m,\u001b[0m \u001b[0mtimeout\u001b[0m\u001b[0;34m)\u001b[0m\u001b[0;34m\u001b[0m\u001b[0;34m\u001b[0m\u001b[0m\n\u001b[0m\u001b[1;32m    415\u001b[0m         \u001b[0;32mreturn\u001b[0m \u001b[0mbool\u001b[0m\u001b[0;34m(\u001b[0m\u001b[0mr\u001b[0m\u001b[0;34m)\u001b[0m\u001b[0;34m\u001b[0m\u001b[0;34m\u001b[0m\u001b[0m\n\u001b[1;32m    416\u001b[0m \u001b[0;34m\u001b[0m\u001b[0m\n",
            "\u001b[0;32m/usr/lib/python3.7/multiprocessing/connection.py\u001b[0m in \u001b[0;36mwait\u001b[0;34m(object_list, timeout)\u001b[0m\n\u001b[1;32m    919\u001b[0m \u001b[0;34m\u001b[0m\u001b[0m\n\u001b[1;32m    920\u001b[0m             \u001b[0;32mwhile\u001b[0m \u001b[0;32mTrue\u001b[0m\u001b[0;34m:\u001b[0m\u001b[0;34m\u001b[0m\u001b[0;34m\u001b[0m\u001b[0m\n\u001b[0;32m--> 921\u001b[0;31m                 \u001b[0mready\u001b[0m \u001b[0;34m=\u001b[0m \u001b[0mselector\u001b[0m\u001b[0;34m.\u001b[0m\u001b[0mselect\u001b[0m\u001b[0;34m(\u001b[0m\u001b[0mtimeout\u001b[0m\u001b[0;34m)\u001b[0m\u001b[0;34m\u001b[0m\u001b[0;34m\u001b[0m\u001b[0m\n\u001b[0m\u001b[1;32m    922\u001b[0m                 \u001b[0;32mif\u001b[0m \u001b[0mready\u001b[0m\u001b[0;34m:\u001b[0m\u001b[0;34m\u001b[0m\u001b[0;34m\u001b[0m\u001b[0m\n\u001b[1;32m    923\u001b[0m                     \u001b[0;32mreturn\u001b[0m \u001b[0;34m[\u001b[0m\u001b[0mkey\u001b[0m\u001b[0;34m.\u001b[0m\u001b[0mfileobj\u001b[0m \u001b[0;32mfor\u001b[0m \u001b[0;34m(\u001b[0m\u001b[0mkey\u001b[0m\u001b[0;34m,\u001b[0m \u001b[0mevents\u001b[0m\u001b[0;34m)\u001b[0m \u001b[0;32min\u001b[0m \u001b[0mready\u001b[0m\u001b[0;34m]\u001b[0m\u001b[0;34m\u001b[0m\u001b[0;34m\u001b[0m\u001b[0m\n",
            "\u001b[0;32m/usr/lib/python3.7/selectors.py\u001b[0m in \u001b[0;36mselect\u001b[0;34m(self, timeout)\u001b[0m\n\u001b[1;32m    413\u001b[0m         \u001b[0mready\u001b[0m \u001b[0;34m=\u001b[0m \u001b[0;34m[\u001b[0m\u001b[0;34m]\u001b[0m\u001b[0;34m\u001b[0m\u001b[0;34m\u001b[0m\u001b[0m\n\u001b[1;32m    414\u001b[0m         \u001b[0;32mtry\u001b[0m\u001b[0;34m:\u001b[0m\u001b[0;34m\u001b[0m\u001b[0;34m\u001b[0m\u001b[0m\n\u001b[0;32m--> 415\u001b[0;31m             \u001b[0mfd_event_list\u001b[0m \u001b[0;34m=\u001b[0m \u001b[0mself\u001b[0m\u001b[0;34m.\u001b[0m\u001b[0m_selector\u001b[0m\u001b[0;34m.\u001b[0m\u001b[0mpoll\u001b[0m\u001b[0;34m(\u001b[0m\u001b[0mtimeout\u001b[0m\u001b[0;34m)\u001b[0m\u001b[0;34m\u001b[0m\u001b[0;34m\u001b[0m\u001b[0m\n\u001b[0m\u001b[1;32m    416\u001b[0m         \u001b[0;32mexcept\u001b[0m \u001b[0mInterruptedError\u001b[0m\u001b[0;34m:\u001b[0m\u001b[0;34m\u001b[0m\u001b[0;34m\u001b[0m\u001b[0m\n\u001b[1;32m    417\u001b[0m             \u001b[0;32mreturn\u001b[0m \u001b[0mready\u001b[0m\u001b[0;34m\u001b[0m\u001b[0;34m\u001b[0m\u001b[0m\n",
            "\u001b[0;31mKeyboardInterrupt\u001b[0m: "
          ]
        }
      ],
      "source": [
        "NUM_EPOCHS = 50\n",
        "\n",
        "for epoch in range(start_epoch + NUM_EPOCHS, start_epoch + NUM_EPOCHS +30):\n",
        "    train(epoch)\n",
        "    evaluate(epoch)\n",
        "    scheduler.step()\n",
        "\n",
        "print('---------------------------------------- Testing Model... ----------------------------------------')\n",
        "test()"
      ]
    },
    {
      "cell_type": "code",
      "execution_count": 166,
      "metadata": {
        "id": "8F9l3iSKXzUs",
        "colab": {
          "base_uri": "https://localhost:8080/"
        },
        "outputId": "a1a5f45a-04e2-4351-84b7-12f361ff7b5c"
      },
      "outputs": [
        {
          "output_type": "stream",
          "name": "stdout",
          "text": [
            "Number of parameters  2.8 million\n"
          ]
        }
      ],
      "source": [
        "print_params(net)"
      ]
    },
    {
      "cell_type": "code",
      "execution_count": 167,
      "metadata": {
        "id": "DRtpQiLSWkIT",
        "colab": {
          "base_uri": "https://localhost:8080/"
        },
        "outputId": "42ee3a68-cc8a-4aa2-ba86-2adacad907da"
      },
      "outputs": [
        {
          "output_type": "execute_result",
          "data": {
            "text/plain": [
              "<generator object Module.parameters at 0x7f1648a45550>"
            ]
          },
          "metadata": {},
          "execution_count": 167
        }
      ],
      "source": [
        "net.parameters()"
      ]
    },
    {
      "cell_type": "code",
      "execution_count": 168,
      "metadata": {
        "id": "6z_TwWP4Xkca",
        "colab": {
          "base_uri": "https://localhost:8080/"
        },
        "outputId": "c86fb033-87db-462d-ea38-5c7539d3ea1b"
      },
      "outputs": [
        {
          "output_type": "execute_result",
          "data": {
            "text/plain": [
              "[35.92666666666667,\n",
              " 53.044444444444444,\n",
              " 60.9,\n",
              " 65.93111111111111,\n",
              " 69.3711111111111,\n",
              " 71.38444444444444,\n",
              " 73.41111111111111,\n",
              " 74.88,\n",
              " 76.18,\n",
              " 76.90222222222222,\n",
              " 77.99111111111111,\n",
              " 78.74,\n",
              " 79.58,\n",
              " 80.08,\n",
              " 80.64,\n",
              " 81.25777777777778,\n",
              " 81.62666666666667,\n",
              " 81.91777777777777,\n",
              " 82.59333333333333,\n",
              " 83.16222222222223,\n",
              " 83.46444444444444,\n",
              " 83.92666666666666,\n",
              " 84.12444444444445,\n",
              " 84.63333333333334,\n",
              " 85.04222222222222,\n",
              " 85.0111111111111,\n",
              " 85.28444444444445,\n",
              " 85.58888888888889,\n",
              " 85.7688888888889,\n",
              " 86.17111111111112,\n",
              " 86.46222222222222,\n",
              " 86.64444444444445,\n",
              " 86.92888888888889,\n",
              " 87.14,\n",
              " 87.12,\n",
              " 87.26,\n",
              " 87.51333333333334,\n",
              " 87.76444444444445,\n",
              " 87.82222222222222,\n",
              " 88.14,\n",
              " 88.28666666666666,\n",
              " 88.28666666666666,\n",
              " 88.40666666666667,\n",
              " 88.5911111111111,\n",
              " 88.83555555555556,\n",
              " 88.97333333333333,\n",
              " 88.80666666666667,\n",
              " 89.02222222222223,\n",
              " 89.17555555555556,\n",
              " 89.24888888888889]"
            ]
          },
          "metadata": {},
          "execution_count": 168
        }
      ],
      "source": [
        "train_acc_array"
      ]
    },
    {
      "cell_type": "code",
      "execution_count": 169,
      "metadata": {
        "id": "JHKohhBDJRIP",
        "colab": {
          "base_uri": "https://localhost:8080/",
          "height": 404
        },
        "outputId": "6880a362-fe39-4acb-9bab-c4d1fb23c030"
      },
      "outputs": [
        {
          "output_type": "display_data",
          "data": {
            "text/plain": [
              "<Figure size 1152x432 with 2 Axes>"
            ],
            "image/png": "[encoded data removed]"
          },
          "metadata": {
            "needs_background": "light"
          }
        }
      ],
      "source": [
        "\n",
        "\n",
        "fig = plt.figure(figsize=(16,6))\n",
        "\n",
        "plt.subplot(121)\n",
        "plt.plot(np.arange(1,NUM_EPOCHS+1),train_acc_array)\n",
        "plt.plot(np.arange(1,NUM_EPOCHS+1),val_acc_array)\n",
        "plt.title(\"Accuray\")\n",
        "plt.xlabel(\"Epochs\")\n",
        "plt.ylabel(\"Accuracy\")\n",
        "plt.legend([\"Train Acc\",\"Valid Acc\"],loc = \"upper right\")\n",
        "\n",
        "\n",
        "plt.subplot(122)\n",
        "plt.plot(np.arange(1,NUM_EPOCHS+1,dtype=int),train_loss_array)\n",
        "plt.plot(np.arange(1,NUM_EPOCHS+1,dtype=int),val_loss_array)\n",
        "plt.title(\"Loss\")\n",
        "plt.xlabel(\"Epochs\")\n",
        "plt.ylabel(\"Loss\")\n",
        "plt.legend(['train loss', 'valid loss'], loc=\"upper right\")\n",
        "\n",
        "plt.show()"
      ]
    },
    {
      "cell_type": "code",
      "execution_count": 170,
      "metadata": {
        "id": "JX1dmdIIuPOo"
      },
      "outputs": [],
      "source": [
        "# can you create a subset of params exclusing pruned weights ?"
      ]
    },
    {
      "cell_type": "code",
      "source": [],
      "metadata": {
        "id": "wPceEp-MM1Jf"
      },
      "execution_count": 170,
      "outputs": []
    }
  ],
  "metadata": {
    "accelerator": "GPU",
    "colab": {
      "machine_shape": "hm",
      "provenance": [],
      "include_colab_link": true
    },
    "gpuClass": "premium",
    "kernelspec": {
      "display_name": "Python 3",
      "name": "python3"
    },
    "language_info": {
      "name": "python"
    }
  },
  "nbformat": 4,
  "nbformat_minor": 0
}